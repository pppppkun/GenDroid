{
 "cells": [
  {
   "cell_type": "code",
   "execution_count": 18,
   "metadata": {},
   "outputs": [],
   "source": [
    "from json_processor import build_data_set\n",
    "from constant import NEW_LOG, OLD_LOG, VERSION_INPUT, VERSION_OUTPUT\n",
    "from common import translate_html_entity\n",
    "import pandas as pd\n",
    "import os\n",
    "import logging\n",
    "import json\n",
    "os.environ[\"GOOGLE_APPLICATION_CREDENTIALS\"]=\"/Users/pkun/.ssh/payuat-985b0c12a3d4.json\"\n",
    "os.chdir('/Users/pkun/PycharmProjects/ui_api_automated_test')\n",
    "LOG = logging.getLogger('data_build')\n",
    "chinese_map_english = json.load(open('data/chinese_map_english.json', 'r'))"
   ]
  },
  {
   "cell_type": "code",
   "execution_count": 2,
   "metadata": {},
   "outputs": [],
   "source": [
    "def translate_seria_text_to_english(seria):\n",
    "    import six\n",
    "    from google.cloud import translate_v2 as translate\n",
    "\n",
    "    translate_client = translate.Client()\n",
    "    result = dict() \n",
    "    # Text can also be a sequence of strings, in which case this method\n",
    "    # will return a sequence of results for each text.\n",
    "    count = 0\n",
    "    for data in seria:\n",
    "        result[data] = translate_client.translate(\n",
    "            data, target_language='en')['translatedText']\n",
    "        result[data] = translate_html_entity(result[data])\n",
    "        count += 1\n",
    "        if count % 200 == 0:\n",
    "            print(count)\n",
    "            print(len(result))\n",
    "    return result"
   ]
  },
  {
   "cell_type": "code",
   "execution_count": 3,
   "metadata": {},
   "outputs": [],
   "source": [
    "def translate_single_text_to_english(text):\n",
    "    return chinese_map_english[text]\n"
   ]
  },
  {
   "cell_type": "code",
   "execution_count": 3,
   "metadata": {},
   "outputs": [],
   "source": [
    "# train_indices = np.random.choice(8052, int(8052*0.8), replace=False)\n",
    "# test_indices = np.delete(np.arange(8052), train_indices)\n",
    "# train_data = copy_data_set[train_indices]\n",
    "# test_data = copy_data_set[test_indices] "
   ]
  },
  {
   "cell_type": "code",
   "execution_count": 4,
   "metadata": {},
   "outputs": [],
   "source": [
    "def from_data_to_tsv(data_set, file):\n",
    "    f = open(file, 'w')\n",
    "    for i in data_set:\n",
    "        f.write(i.to_text()+'\\n')\n",
    "    f.close()"
   ]
  },
  {
   "cell_type": "code",
   "execution_count": 5,
   "metadata": {},
   "outputs": [],
   "source": [
    "new_log_data_set = build_data_set(NEW_LOG)\n",
    "old_log_data_set = build_data_set(OLD_LOG)"
   ]
  },
  {
   "cell_type": "code",
   "execution_count": 6,
   "metadata": {},
   "outputs": [
    {
     "data": {
      "text/html": [
       "<div>\n",
       "<style scoped>\n",
       "    .dataframe tbody tr th:only-of-type {\n",
       "        vertical-align: middle;\n",
       "    }\n",
       "\n",
       "    .dataframe tbody tr th {\n",
       "        vertical-align: top;\n",
       "    }\n",
       "\n",
       "    .dataframe thead th {\n",
       "        text-align: right;\n",
       "    }\n",
       "</style>\n",
       "<table border=\"1\" class=\"dataframe\">\n",
       "  <thead>\n",
       "    <tr style=\"text-align: right;\">\n",
       "      <th></th>\n",
       "      <th>label</th>\n",
       "      <th>query</th>\n",
       "      <th>ui_info</th>\n",
       "    </tr>\n",
       "  </thead>\n",
       "  <tbody>\n",
       "    <tr>\n",
       "      <th>0</th>\n",
       "      <td>yes</td>\n",
       "      <td>confirm payment information to confirm payment...</td>\n",
       "      <td>立即支付</td>\n",
       "    </tr>\n",
       "    <tr>\n",
       "      <th>1</th>\n",
       "      <td>no</td>\n",
       "      <td>confirm payment information to confirm payment...</td>\n",
       "      <td>当前所在页面,支付</td>\n",
       "    </tr>\n",
       "    <tr>\n",
       "      <th>2</th>\n",
       "      <td>no</td>\n",
       "      <td>confirm payment information to confirm payment...</td>\n",
       "      <td>返回</td>\n",
       "    </tr>\n",
       "    <tr>\n",
       "      <th>3</th>\n",
       "      <td>no</td>\n",
       "      <td>confirm payment information to confirm payment...</td>\n",
       "      <td>支付</td>\n",
       "    </tr>\n",
       "    <tr>\n",
       "      <th>4</th>\n",
       "      <td>no</td>\n",
       "      <td>confirm payment information to confirm payment...</td>\n",
       "      <td>body</td>\n",
       "    </tr>\n",
       "    <tr>\n",
       "      <th>...</th>\n",
       "      <td>...</td>\n",
       "      <td>...</td>\n",
       "      <td>...</td>\n",
       "    </tr>\n",
       "    <tr>\n",
       "      <th>194733</th>\n",
       "      <td>no</td>\n",
       "      <td>user to submit cardholder information when fil...</td>\n",
       "      <td>选择</td>\n",
       "    </tr>\n",
       "    <tr>\n",
       "      <th>194734</th>\n",
       "      <td>no</td>\n",
       "      <td>user to submit cardholder information when fil...</td>\n",
       "      <td>同意用户服务协议</td>\n",
       "    </tr>\n",
       "    <tr>\n",
       "      <th>194735</th>\n",
       "      <td>no</td>\n",
       "      <td>user to submit cardholder information when fil...</td>\n",
       "      <td>下一步</td>\n",
       "    </tr>\n",
       "    <tr>\n",
       "      <th>194736</th>\n",
       "      <td>no</td>\n",
       "      <td>user to submit cardholder information when fil...</td>\n",
       "      <td>将发起0.05美元预授权以验证账户</td>\n",
       "    </tr>\n",
       "    <tr>\n",
       "      <th>194737</th>\n",
       "      <td>no</td>\n",
       "      <td>user to submit cardholder information when fil...</td>\n",
       "      <td>本服务由财付通提供</td>\n",
       "    </tr>\n",
       "  </tbody>\n",
       "</table>\n",
       "<p>194738 rows × 3 columns</p>\n",
       "</div>"
      ],
      "text/plain": [
       "       label                                              query  \\\n",
       "0        yes  confirm payment information to confirm payment...   \n",
       "1         no  confirm payment information to confirm payment...   \n",
       "2         no  confirm payment information to confirm payment...   \n",
       "3         no  confirm payment information to confirm payment...   \n",
       "4         no  confirm payment information to confirm payment...   \n",
       "...      ...                                                ...   \n",
       "194733    no  user to submit cardholder information when fil...   \n",
       "194734    no  user to submit cardholder information when fil...   \n",
       "194735    no  user to submit cardholder information when fil...   \n",
       "194736    no  user to submit cardholder information when fil...   \n",
       "194737    no  user to submit cardholder information when fil...   \n",
       "\n",
       "                  ui_info  \n",
       "0                    立即支付  \n",
       "1               当前所在页面,支付  \n",
       "2                      返回  \n",
       "3                      支付  \n",
       "4                    body  \n",
       "...                   ...  \n",
       "194733                 选择  \n",
       "194734           同意用户服务协议  \n",
       "194735                下一步  \n",
       "194736  将发起0.05美元预授权以验证账户  \n",
       "194737          本服务由财付通提供  \n",
       "\n",
       "[194738 rows x 3 columns]"
      ]
     },
     "execution_count": 6,
     "metadata": {},
     "output_type": "execute_result"
    }
   ],
   "source": [
    "new_log_data_set"
   ]
  },
  {
   "cell_type": "code",
   "execution_count": 8,
   "metadata": {},
   "outputs": [],
   "source": [
    "def remove_duplicates_with_label_eq_no(data_set):\n",
    "    data_set[data_set['label']=='no'] = data_set[data_set['label']=='no'].drop_duplicates(['query', 'ui_info'])\n",
    "    data_set.dropna(axis=0, how='any', inplace=True)"
   ]
  },
  {
   "cell_type": "code",
   "execution_count": 9,
   "metadata": {},
   "outputs": [
    {
     "data": {
      "text/html": [
       "<div>\n",
       "<style scoped>\n",
       "    .dataframe tbody tr th:only-of-type {\n",
       "        vertical-align: middle;\n",
       "    }\n",
       "\n",
       "    .dataframe tbody tr th {\n",
       "        vertical-align: top;\n",
       "    }\n",
       "\n",
       "    .dataframe thead th {\n",
       "        text-align: right;\n",
       "    }\n",
       "</style>\n",
       "<table border=\"1\" class=\"dataframe\">\n",
       "  <thead>\n",
       "    <tr style=\"text-align: right;\">\n",
       "      <th></th>\n",
       "      <th>label</th>\n",
       "      <th>query</th>\n",
       "      <th>ui_info</th>\n",
       "    </tr>\n",
       "  </thead>\n",
       "  <tbody>\n",
       "    <tr>\n",
       "      <th>0</th>\n",
       "      <td>yes</td>\n",
       "      <td>confirm payment information to confirm payment...</td>\n",
       "      <td>立即支付</td>\n",
       "    </tr>\n",
       "    <tr>\n",
       "      <th>1</th>\n",
       "      <td>no</td>\n",
       "      <td>confirm payment information to confirm payment...</td>\n",
       "      <td>当前所在页面,支付</td>\n",
       "    </tr>\n",
       "    <tr>\n",
       "      <th>2</th>\n",
       "      <td>no</td>\n",
       "      <td>confirm payment information to confirm payment...</td>\n",
       "      <td>支付</td>\n",
       "    </tr>\n",
       "    <tr>\n",
       "      <th>3</th>\n",
       "      <td>no</td>\n",
       "      <td>confirm payment information to confirm payment...</td>\n",
       "      <td>返回</td>\n",
       "    </tr>\n",
       "    <tr>\n",
       "      <th>4</th>\n",
       "      <td>no</td>\n",
       "      <td>confirm payment information to confirm payment...</td>\n",
       "      <td>body</td>\n",
       "    </tr>\n",
       "    <tr>\n",
       "      <th>...</th>\n",
       "      <td>...</td>\n",
       "      <td>...</td>\n",
       "      <td>...</td>\n",
       "    </tr>\n",
       "    <tr>\n",
       "      <th>16340</th>\n",
       "      <td>yes</td>\n",
       "      <td>confirm payment information to confirm payment...</td>\n",
       "      <td>立即支付</td>\n",
       "    </tr>\n",
       "    <tr>\n",
       "      <th>16349</th>\n",
       "      <td>yes</td>\n",
       "      <td>confirm payment information to confirm payment...</td>\n",
       "      <td>立即支付</td>\n",
       "    </tr>\n",
       "    <tr>\n",
       "      <th>16358</th>\n",
       "      <td>yes</td>\n",
       "      <td>confirm payment information to confirm payment...</td>\n",
       "      <td>立即支付</td>\n",
       "    </tr>\n",
       "    <tr>\n",
       "      <th>16367</th>\n",
       "      <td>yes</td>\n",
       "      <td>submit payment password authorized payment vie...</td>\n",
       "      <td>支付方式</td>\n",
       "    </tr>\n",
       "    <tr>\n",
       "      <th>16383</th>\n",
       "      <td>yes</td>\n",
       "      <td>confirm payment information to confirm payment...</td>\n",
       "      <td>立即支付</td>\n",
       "    </tr>\n",
       "  </tbody>\n",
       "</table>\n",
       "<p>1673 rows × 3 columns</p>\n",
       "</div>"
      ],
      "text/plain": [
       "      label                                              query    ui_info\n",
       "0       yes  confirm payment information to confirm payment...       立即支付\n",
       "1        no  confirm payment information to confirm payment...  当前所在页面,支付\n",
       "2        no  confirm payment information to confirm payment...         支付\n",
       "3        no  confirm payment information to confirm payment...         返回\n",
       "4        no  confirm payment information to confirm payment...       body\n",
       "...     ...                                                ...        ...\n",
       "16340   yes  confirm payment information to confirm payment...       立即支付\n",
       "16349   yes  confirm payment information to confirm payment...       立即支付\n",
       "16358   yes  confirm payment information to confirm payment...       立即支付\n",
       "16367   yes  submit payment password authorized payment vie...       支付方式\n",
       "16383   yes  confirm payment information to confirm payment...       立即支付\n",
       "\n",
       "[1673 rows x 3 columns]"
      ]
     },
     "execution_count": 9,
     "metadata": {},
     "output_type": "execute_result"
    }
   ],
   "source": [
    "remove_duplicates_with_label_eq_no(new_log_data_set)\n",
    "remove_duplicates_with_label_eq_no(old_log_data_set)\n",
    "old_log_data_set"
   ]
  },
  {
   "cell_type": "code",
   "execution_count": 10,
   "metadata": {},
   "outputs": [],
   "source": [
    "def describe_label_number(data_set):\n",
    "    print(data_set.head())\n",
    "    print('Yes', len(data_set[data_set['label'] == 'yes']))\n",
    "    print('No', len(data_set[data_set['label'] == 'no']))\n",
    "    data_set"
   ]
  },
  {
   "cell_type": "code",
   "execution_count": 11,
   "metadata": {},
   "outputs": [
    {
     "name": "stdout",
     "output_type": "stream",
     "text": [
      "  label                                              query    ui_info\n",
      "0   yes  confirm payment information to confirm payment...       立即支付\n",
      "1    no  confirm payment information to confirm payment...  当前所在页面,支付\n",
      "2    no  confirm payment information to confirm payment...         返回\n",
      "3    no  confirm payment information to confirm payment...         支付\n",
      "4    no  confirm payment information to confirm payment...       body\n",
      "Yes 7450\n",
      "No 7297\n",
      "  label                                              query    ui_info\n",
      "0   yes  confirm payment information to confirm payment...       立即支付\n",
      "1    no  confirm payment information to confirm payment...  当前所在页面,支付\n",
      "2    no  confirm payment information to confirm payment...         支付\n",
      "3    no  confirm payment information to confirm payment...         返回\n",
      "4    no  confirm payment information to confirm payment...       body\n",
      "Yes 796\n",
      "No 877\n"
     ]
    }
   ],
   "source": [
    "describe_label_number(new_log_data_set)\n",
    "describe_label_number(old_log_data_set)"
   ]
  },
  {
   "cell_type": "code",
   "execution_count": 12,
   "metadata": {},
   "outputs": [
    {
     "data": {
      "text/plain": [
       "0      pay immediately\n",
       "1    Current page, pay\n",
       "2               return\n",
       "3               To pay\n",
       "4                 body\n",
       "Name: ui_info, dtype: object"
      ]
     },
     "execution_count": 12,
     "metadata": {},
     "output_type": "execute_result"
    }
   ],
   "source": [
    "new_log_data_set['ui_info'].head().apply(translate_single_text_to_english)"
   ]
  },
  {
   "cell_type": "code",
   "execution_count": 13,
   "metadata": {},
   "outputs": [],
   "source": [
    "new_log_data_set['ui_info'] = new_log_data_set['ui_info'].apply(translate_single_text_to_english)\n",
    "old_log_data_set['ui_info'] = old_log_data_set['ui_info'].apply(translate_single_text_to_english)"
   ]
  },
  {
   "cell_type": "code",
   "execution_count": 19,
   "metadata": {},
   "outputs": [],
   "source": [
    "new_log_data_set.to_csv(path_or_buf=VERSION_INPUT, sep='\\t', header=False, index=False)\n",
    "old_log_data_set.to_csv(path_or_buf=VERSION_OUTPUT, sep='\\t', header=False, index=False)"
   ]
  },
  {
   "cell_type": "code",
   "execution_count": null,
   "metadata": {},
   "outputs": [],
   "source": [
    "input_data_set = new_log_data_set\n"
   ]
  }
 ],
 "metadata": {
  "interpreter": {
   "hash": "9c26b9216647551b6ac5aa8c51974e9016360b3877785ab6f10d8fec526fedea"
  },
  "kernelspec": {
   "display_name": "Python 3.7.11 64-bit ('uat': conda)",
   "language": "python",
   "name": "python3"
  },
  "language_info": {
   "codemirror_mode": {
    "name": "ipython",
    "version": 3
   },
   "file_extension": ".py",
   "mimetype": "text/x-python",
   "name": "python",
   "nbconvert_exporter": "python",
   "pygments_lexer": "ipython3",
   "version": "3.7.11"
  },
  "orig_nbformat": 4
 },
 "nbformat": 4,
 "nbformat_minor": 2
}
