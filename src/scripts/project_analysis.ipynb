{
 "cells": [
  {
   "cell_type": "code",
   "execution_count": 2,
   "metadata": {
    "collapsed": true
   },
   "outputs": [],
   "source": [
    "import pandas as pd\n",
    "from github import Github\n"
   ]
  },
  {
   "cell_type": "code",
   "execution_count": 4,
   "outputs": [
    {
     "data": {
      "text/plain": "                        repo name  closed  open  stars\n0          0xFireball/Enlightened      11    23    196\n1   109021017/android-TopActivity       4     6    937\n2  1gravity/Android-ContactPicker      19    19     64\n3       1gravity/Android-RTEditor      84    59    398\n4                1hakr/AnExplorer      47    26   1328",
      "text/html": "<div>\n<style scoped>\n    .dataframe tbody tr th:only-of-type {\n        vertical-align: middle;\n    }\n\n    .dataframe tbody tr th {\n        vertical-align: top;\n    }\n\n    .dataframe thead th {\n        text-align: right;\n    }\n</style>\n<table border=\"1\" class=\"dataframe\">\n  <thead>\n    <tr style=\"text-align: right;\">\n      <th></th>\n      <th>repo name</th>\n      <th>closed</th>\n      <th>open</th>\n      <th>stars</th>\n    </tr>\n  </thead>\n  <tbody>\n    <tr>\n      <th>0</th>\n      <td>0xFireball/Enlightened</td>\n      <td>11</td>\n      <td>23</td>\n      <td>196</td>\n    </tr>\n    <tr>\n      <th>1</th>\n      <td>109021017/android-TopActivity</td>\n      <td>4</td>\n      <td>6</td>\n      <td>937</td>\n    </tr>\n    <tr>\n      <th>2</th>\n      <td>1gravity/Android-ContactPicker</td>\n      <td>19</td>\n      <td>19</td>\n      <td>64</td>\n    </tr>\n    <tr>\n      <th>3</th>\n      <td>1gravity/Android-RTEditor</td>\n      <td>84</td>\n      <td>59</td>\n      <td>398</td>\n    </tr>\n    <tr>\n      <th>4</th>\n      <td>1hakr/AnExplorer</td>\n      <td>47</td>\n      <td>26</td>\n      <td>1328</td>\n    </tr>\n  </tbody>\n</table>\n</div>"
     },
     "execution_count": 4,
     "metadata": {},
     "output_type": "execute_result"
    }
   ],
   "source": [
    "project_lists = pd.read_excel('project_lists.xlsx')\n",
    "project_lists.head()"
   ],
   "metadata": {
    "collapsed": false,
    "pycharm": {
     "name": "#%%\n"
    }
   }
  },
  {
   "cell_type": "code",
   "execution_count": null,
   "outputs": [],
   "source": [],
   "metadata": {
    "collapsed": false,
    "pycharm": {
     "name": "#%%\n"
    }
   }
  }
 ],
 "metadata": {
  "kernelspec": {
   "display_name": "Python 3",
   "language": "python",
   "name": "python3"
  },
  "language_info": {
   "codemirror_mode": {
    "name": "ipython",
    "version": 2
   },
   "file_extension": ".py",
   "mimetype": "text/x-python",
   "name": "python",
   "nbconvert_exporter": "python",
   "pygments_lexer": "ipython2",
   "version": "2.7.6"
  }
 },
 "nbformat": 4,
 "nbformat_minor": 0
}