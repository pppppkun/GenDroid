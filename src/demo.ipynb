{
 "cells": [
  {
   "cell_type": "code",
   "execution_count": 2,
   "id": "sensitive-circle",
   "metadata": {},
   "outputs": [],
   "source": [
    "from constant import NEW_LOG, OLD_LOG\n",
    "from data_check import get_trace\n",
    "from json_processor import CompareBuild \n",
    "import json\n",
    "import os\n",
    "os.chdir('/Users/pkun/PycharmProjects/ui_api_automated_test')"
   ]
  },
  {
   "cell_type": "code",
   "execution_count": 3,
   "id": "00f5e8cf",
   "metadata": {},
   "outputs": [],
   "source": [
    "new_trace = get_trace(NEW_LOG) \n",
    "old_trace = get_trace(OLD_LOG)"
   ]
  },
  {
   "cell_type": "code",
   "execution_count": 4,
   "id": "d54f1d13",
   "metadata": {},
   "outputs": [
    {
     "data": {
      "text/plain": [
       "{'add_your_bank_card_to_submit_your_bank_card_number',\n",
       " 'change_reserved_mobile_no_modify_reserved_mobile_no',\n",
       " 'confirm_failed_message_forgot_password',\n",
       " 'confirm_payment_information_to_confirm_payment_and_require_wechat_user_to_submit_payment_password_authorization',\n",
       " 'confirm_payment_result_and_confirm_completion',\n",
       " 'select_short_mobile_phone_number_to_update_bank_card_to_reserve_mobile_phone_number',\n",
       " 'select_short_phone_number_to_add_mobile_phone_number_by_binding_new_card',\n",
       " 'select_the_short_phone_number_to_select_the_mobile_number',\n",
       " 'submit_bank_card_and_identity_information_submit_bank_card_and_identity_information',\n",
       " 'submit_bank_card_and_identity_information_to_view_the_user_agreement_and_do_not_need_to_show_the_list_of_protocols',\n",
       " 'submit_payment_password_authorization_payment_authorization_and_need_wechat_user_verification_short',\n",
       " 'submit_payment_password_authorize_payment_and_verify_payment_password_is_illegal',\n",
       " 'submit_payment_password_authorized_payment_view_offer_list',\n",
       " 'submit_payment_password_authorized_payment_view_payment_method_list',\n",
       " 'submit_payment_password_to_authorize_payment_and_verify_transaction_failure',\n",
       " 'submit_the_bank_card_and_identity_information_to_view_the_user_agreement_and_need_to_show_the_list_of_agreements',\n",
       " 'submit_your_bank_card_and_identity_information_cancel_your_bank_card_and_identity_information',\n",
       " 'system_requests_from_direct_business',\n",
       " 'verify_sms_and_resend_captcha',\n",
       " 'verify_sms_submission_sms_verification_code',\n",
       " 'verify_text_messages_verify_other_phone_numbers',\n",
       " 'verify_the_identity_of_the_person_and_verify_the_identity_information_is_not_legal',\n",
       " 'verify_your_identity_cancel',\n",
       " 'verifying_the_identity_of_the_person_submitting_the_identity_information',\n",
       " 'view_wechat_payment_user_service_agreement_cancellation'}"
      ]
     },
     "execution_count": 4,
     "metadata": {},
     "output_type": "execute_result"
    }
   ],
   "source": [
    "# api_index = 0 if log == OLD_LOG else 3\n",
    "new_trace_set = set()\n",
    "old_trace_set = set() \n",
    "get_trace_from_traces = lambda traces, y : set( j[y] for i in traces for j in traces[i])\n",
    "new_trace_set = get_trace_from_traces(new_trace, 3)\n",
    "old_trace_set = get_trace_from_traces(old_trace, 0)\n",
    "join_set = new_trace_set.intersection(old_trace_set) \n",
    "join_set"
   ]
  },
  {
   "cell_type": "code",
   "execution_count": 5,
   "id": "f149d5c5",
   "metadata": {},
   "outputs": [],
   "source": [
    "join_set.remove('system_requests_from_direct_business')"
   ]
  },
  {
   "cell_type": "code",
   "execution_count": 6,
   "id": "b8066d87",
   "metadata": {},
   "outputs": [],
   "source": [
    "def get_file_index(file_with_trace, choose_):\n",
    "    file_index = dict()\n",
    "    for file in file_with_trace:\n",
    "        for traces in file_with_trace[file]:\n",
    "            for trace in traces:\n",
    "                if trace in join_set:\n",
    "                    l = file_index.setdefault(trace, set())\n",
    "                    l.add(file)\n",
    "    # for trace in file_index:\n",
    "    #     copy_set = file_index[trace].copy()\n",
    "    #     for file in copy_set:\n",
    "    #         j = json.load(open(file, 'r'))\n",
    "    #         if choose_(j['success']):\n",
    "    #             file_index[trace].remove(file)\n",
    "    return file_index"
   ]
  },
  {
   "cell_type": "code",
   "execution_count": 7,
   "id": "a69374c8",
   "metadata": {},
   "outputs": [],
   "source": [
    "# file_index is a dict which contains all false test cases which contains trace in new_trace\n",
    "new_false_file_index = get_file_index(new_trace, lambda x : x)\n",
    "old_true_file_index = get_file_index(old_trace, lambda x : not x)"
   ]
  },
  {
   "cell_type": "code",
   "execution_count": 8,
   "id": "ab60a813",
   "metadata": {},
   "outputs": [],
   "source": [
    "def get_all_ui_info(file_index, index):\n",
    "    join_ret = dict()\n",
    "    for trace in file_index:\n",
    "        join_ret[trace] = list() \n",
    "        for file in file_index[trace]:\n",
    "            cb = CompareBuild(file, index)\n",
    "            res = cb.json_file_process()\n",
    "            for i in res:\n",
    "                if i['query'] != trace.replace('_', ' '):\n",
    "                    continue\n",
    "                else:\n",
    "                    i.pop('query')\n",
    "                    join_ret[trace].append(i)\n",
    "    return join_ret"
   ]
  },
  {
   "cell_type": "code",
   "execution_count": 9,
   "id": "7ddaddcb",
   "metadata": {},
   "outputs": [],
   "source": [
    "join_ret_of_new = get_all_ui_info(new_false_file_index, True)\n",
    "join_ret_of_old = get_all_ui_info(old_true_file_index, False)"
   ]
  },
  {
   "cell_type": "code",
   "execution_count": 10,
   "id": "7524d6af",
   "metadata": {},
   "outputs": [],
   "source": [
    "def show_head_of_join_ret(join_ret):\n",
    "    for key_trace in join_ret.keys():\n",
    "        for res in join_ret[key_trace]:\n",
    "            print(res)\n",
    "            break\n",
    "        break\n"
   ]
  },
  {
   "cell_type": "code",
   "execution_count": 11,
   "id": "84c62bc6",
   "metadata": {},
   "outputs": [
    {
     "name": "stdout",
     "output_type": "stream",
     "text": [
      "{'positive_doc': {'text': '立即支付', 'content-desc': '立即支付', 'resource-id': 'com.tencent.mm:id/confirm_pay_btn', 'class': 'android.widget.TextView'}, 'negative_docs': [{'content-desc': '当前所在页面,支付'}, {'content-desc': '返回'}, {'text': '支付'}, {'text': 'body'}, {'text': '￥0.05'}, {'text': '收款方'}, {'text': 'UAT普通直连测试商户'}, {'text': '支付安全由中国人民财产保险股份有限公司承保'}]}\n",
      "{'positive_doc': {'text': '立即支付', 'content-desc': '立即支付', 'resource-id': 'com.tencent.mm:id/confirm_pay_btn', 'class': 'android.widget.TextView'}, 'negative_docs': [{'content-desc': '当前所在页面,支付'}, {'text': '支付'}, {'content-desc': '返回'}, {'text': 'body'}, {'text': '￥0.05'}, {'text': '收款方'}, {'text': 'UAT普通直连测试商户'}, {'text': '支付安全由中国人民财产保险股份有限公司承保'}]}\n"
     ]
    }
   ],
   "source": [
    "show_head_of_join_ret(join_ret_of_new)\n",
    "show_head_of_join_ret(join_ret_of_old)"
   ]
  },
  {
   "cell_type": "markdown",
   "id": "a40bde98",
   "metadata": {},
   "source": [
    "上面的流程是从新老数据集中取出数据，格式为\n",
    "```json\n",
    "{\n",
    "    \"filePath\":[\"all trace\"]\n",
    "}\n",
    "```\n",
    "然后从所有trace中取出query，然后在所有的query，也就是api上做交集，得出一个新的api集合join_set。然后从所有数据中筛出存在join set的文件，file_index 就是新老数据集中所有包含了join_set中api的文件，get_all_ui_info是取出了所有file_index里的数据，数据格式和json_processor里基本上一样。\n",
    "下面要做的事情是，从这里面比较新旧数据集同api下，描述的不同"
   ]
  },
  {
   "cell_type": "code",
   "execution_count": 14,
   "id": "f4d75b2f",
   "metadata": {},
   "outputs": [
    {
     "name": "stdout",
     "output_type": "stream",
     "text": [
      "submit_your_bank_card_and_identity_information_cancel_your_bank_card_and_identity_information\n",
      "{'content-desc': '返回', 'resource-id': 'com.tencent.mm:id/actionbar_up_indicator_btn', 'class': 'android.widget.ImageView'}\n",
      "{'content-desc': '返回', 'resource-id': 'com.tencent.mm:id/actionbar_up_indicator_btn', 'class': 'android.widget.ImageView'}\n",
      "{'content-desc': '返回', 'resource-id': 'com.tencent.mm:id/actionbar_up_indicator_btn', 'class': 'android.widget.ImageView'}\n",
      "{'content-desc': '返回', 'resource-id': 'com.tencent.mm:id/actionbar_up_indicator_btn', 'class': 'android.widget.ImageView'}\n",
      "{'content-desc': '返回', 'resource-id': 'com.tencent.mm:id/actionbar_up_indicator_btn', 'class': 'android.widget.ImageView'}\n",
      "{'content-desc': '返回', 'resource-id': 'com.tencent.mm:id/actionbar_up_indicator_btn', 'class': 'android.widget.ImageView'}\n"
     ]
    }
   ],
   "source": [
    "for key_trace in join_set:\n",
    "    print(key_trace)\n",
    "    print(len(join_ret_of_new[key_trace]), len(join_ret_of_old[key_trace]))"
   ]
  }
 ],
 "metadata": {
  "kernelspec": {
   "display_name": "Python 3",
   "language": "python",
   "name": "python3"
  },
  "language_info": {
   "codemirror_mode": {
    "name": "ipython",
    "version": 3
   },
   "file_extension": ".py",
   "mimetype": "text/x-python",
   "name": "python",
   "nbconvert_exporter": "python",
   "pygments_lexer": "ipython3",
   "version": "3.7.11"
  }
 },
 "nbformat": 4,
 "nbformat_minor": 5
}
