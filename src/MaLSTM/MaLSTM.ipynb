{
  "nbformat": 4,
  "nbformat_minor": 0,
  "metadata": {
    "accelerator": "GPU",
    "colab": {
      "name": "MaLSTM.ipynb",
      "provenance": [],
      "collapsed_sections": []
    },
    "kernelspec": {
      "display_name": "Python 3",
      "name": "python3"
    },
    "language_info": {
      "name": "python"
    }
  },
  "cells": [
    {
      "cell_type": "code",
      "metadata": {
        "id": "TcMf4WjkQAyV"
      },
      "source": [
        "import pandas as pd\n",
        "import numpy as np\n",
        "import nltk\n",
        "from nltk.corpus import stopwords\n",
        "from nltk.stem import SnowballStemmer\n",
        "from gensim.models import KeyedVectors\n",
        "import re\n",
        "from string import punctuation"
      ],
      "execution_count": 1,
      "outputs": []
    },
    {
      "cell_type": "code",
      "metadata": {
        "id": "Pex9oPPyQCEO"
      },
      "source": [
        "import tensorflow as tf\n",
        "from tensorflow.keras.preprocessing.text import Tokenizer\n",
        "from tensorflow.keras.preprocessing.sequence import pad_sequences\n",
        "from tensorflow.keras.models import Model, Sequential\n",
        "from tensorflow.keras.layers import Dense, Input, LSTM, Embedding, Bidirectional\n",
        "from keras.layers import merge\n",
        "from tensorflow.keras import layers, utils, callbacks, optimizers, regularizers\n",
        "from tensorflow.keras.models import load_model\n",
        "from tqdm import tqdm"
      ],
      "execution_count": 2,
      "outputs": []
    },
    {
      "cell_type": "code",
      "metadata": {
        "colab": {
          "base_uri": "https://localhost:8080/"
        },
        "id": "koDQfdMFQE8G",
        "outputId": "eaf2ba2e-bc7a-40c5-b04f-699eb09d40d7"
      },
      "source": [
        "print(\"Num GPUs Available: \", len(tf.config.list_physical_devices('GPU')))"
      ],
      "execution_count": 3,
      "outputs": [
        {
          "output_type": "stream",
          "name": "stdout",
          "text": [
            "Num GPUs Available:  1\n"
          ]
        }
      ]
    },
    {
      "cell_type": "code",
      "metadata": {
        "id": "5NQPu_EwQHAy"
      },
      "source": [
        "# train = pd.read_csv(\"../input/quora-question-pairs/train.csv.zip\")\n",
        "# test = pd.read_csv(\"../input/quora-question-pairs/test.csv\")\n",
        "data_set = pd.read_csv('/content/drive/MyDrive/MaLSTM/train.csv')"
      ],
      "execution_count": 4,
      "outputs": []
    },
    {
      "cell_type": "code",
      "metadata": {
        "id": "x0y19wQzdvqJ"
      },
      "source": [
        "from sklearn.metrics import log_loss\n",
        "from sklearn.model_selection import train_test_split\n",
        "x_train, x_val, y_train,y_val = train_test_split(data_set[['question1', 'question2']], data_set[['is_duplicate']] , train_size=0.8)"
      ],
      "execution_count": 5,
      "outputs": []
    },
    {
      "cell_type": "code",
      "metadata": {
        "colab": {
          "base_uri": "https://localhost:8080/",
          "height": 424
        },
        "id": "_qXkCeteMS5R",
        "outputId": "9c3cb2bb-da6c-4097-9a75-e988e294ba54"
      },
      "source": [
        "data_set"
      ],
      "execution_count": 6,
      "outputs": [
        {
          "output_type": "execute_result",
          "data": {
            "text/html": [
              "<div>\n",
              "<style scoped>\n",
              "    .dataframe tbody tr th:only-of-type {\n",
              "        vertical-align: middle;\n",
              "    }\n",
              "\n",
              "    .dataframe tbody tr th {\n",
              "        vertical-align: top;\n",
              "    }\n",
              "\n",
              "    .dataframe thead th {\n",
              "        text-align: right;\n",
              "    }\n",
              "</style>\n",
              "<table border=\"1\" class=\"dataframe\">\n",
              "  <thead>\n",
              "    <tr style=\"text-align: right;\">\n",
              "      <th></th>\n",
              "      <th>id</th>\n",
              "      <th>qid1</th>\n",
              "      <th>qid2</th>\n",
              "      <th>question1</th>\n",
              "      <th>question2</th>\n",
              "      <th>is_duplicate</th>\n",
              "    </tr>\n",
              "  </thead>\n",
              "  <tbody>\n",
              "    <tr>\n",
              "      <th>0</th>\n",
              "      <td>0</td>\n",
              "      <td>1</td>\n",
              "      <td>2</td>\n",
              "      <td>What is the step by step guide to invest in sh...</td>\n",
              "      <td>What is the step by step guide to invest in sh...</td>\n",
              "      <td>0</td>\n",
              "    </tr>\n",
              "    <tr>\n",
              "      <th>1</th>\n",
              "      <td>1</td>\n",
              "      <td>3</td>\n",
              "      <td>4</td>\n",
              "      <td>What is the story of Kohinoor (Koh-i-Noor) Dia...</td>\n",
              "      <td>What would happen if the Indian government sto...</td>\n",
              "      <td>0</td>\n",
              "    </tr>\n",
              "    <tr>\n",
              "      <th>2</th>\n",
              "      <td>2</td>\n",
              "      <td>5</td>\n",
              "      <td>6</td>\n",
              "      <td>How can I increase the speed of my internet co...</td>\n",
              "      <td>How can Internet speed be increased by hacking...</td>\n",
              "      <td>0</td>\n",
              "    </tr>\n",
              "    <tr>\n",
              "      <th>3</th>\n",
              "      <td>3</td>\n",
              "      <td>7</td>\n",
              "      <td>8</td>\n",
              "      <td>Why am I mentally very lonely? How can I solve...</td>\n",
              "      <td>Find the remainder when [math]23^{24}[/math] i...</td>\n",
              "      <td>0</td>\n",
              "    </tr>\n",
              "    <tr>\n",
              "      <th>4</th>\n",
              "      <td>4</td>\n",
              "      <td>9</td>\n",
              "      <td>10</td>\n",
              "      <td>Which one dissolve in water quikly sugar, salt...</td>\n",
              "      <td>Which fish would survive in salt water?</td>\n",
              "      <td>0</td>\n",
              "    </tr>\n",
              "    <tr>\n",
              "      <th>...</th>\n",
              "      <td>...</td>\n",
              "      <td>...</td>\n",
              "      <td>...</td>\n",
              "      <td>...</td>\n",
              "      <td>...</td>\n",
              "      <td>...</td>\n",
              "    </tr>\n",
              "    <tr>\n",
              "      <th>404285</th>\n",
              "      <td>404285</td>\n",
              "      <td>433578</td>\n",
              "      <td>379845</td>\n",
              "      <td>How many keywords are there in the Racket prog...</td>\n",
              "      <td>How many keywords are there in PERL Programmin...</td>\n",
              "      <td>0</td>\n",
              "    </tr>\n",
              "    <tr>\n",
              "      <th>404286</th>\n",
              "      <td>404286</td>\n",
              "      <td>18840</td>\n",
              "      <td>155606</td>\n",
              "      <td>Do you believe there is life after death?</td>\n",
              "      <td>Is it true that there is life after death?</td>\n",
              "      <td>1</td>\n",
              "    </tr>\n",
              "    <tr>\n",
              "      <th>404287</th>\n",
              "      <td>404287</td>\n",
              "      <td>537928</td>\n",
              "      <td>537929</td>\n",
              "      <td>What is one coin?</td>\n",
              "      <td>What's this coin?</td>\n",
              "      <td>0</td>\n",
              "    </tr>\n",
              "    <tr>\n",
              "      <th>404288</th>\n",
              "      <td>404288</td>\n",
              "      <td>537930</td>\n",
              "      <td>537931</td>\n",
              "      <td>What is the approx annual cost of living while...</td>\n",
              "      <td>I am having little hairfall problem but I want...</td>\n",
              "      <td>0</td>\n",
              "    </tr>\n",
              "    <tr>\n",
              "      <th>404289</th>\n",
              "      <td>404289</td>\n",
              "      <td>537932</td>\n",
              "      <td>537933</td>\n",
              "      <td>What is like to have sex with cousin?</td>\n",
              "      <td>What is it like to have sex with your cousin?</td>\n",
              "      <td>0</td>\n",
              "    </tr>\n",
              "  </tbody>\n",
              "</table>\n",
              "<p>404290 rows × 6 columns</p>\n",
              "</div>"
            ],
            "text/plain": [
              "            id  ...  is_duplicate\n",
              "0            0  ...             0\n",
              "1            1  ...             0\n",
              "2            2  ...             0\n",
              "3            3  ...             0\n",
              "4            4  ...             0\n",
              "...        ...  ...           ...\n",
              "404285  404285  ...             0\n",
              "404286  404286  ...             1\n",
              "404287  404287  ...             0\n",
              "404288  404288  ...             0\n",
              "404289  404289  ...             0\n",
              "\n",
              "[404290 rows x 6 columns]"
            ]
          },
          "metadata": {},
          "execution_count": 6
        }
      ]
    },
    {
      "cell_type": "code",
      "metadata": {
        "colab": {
          "base_uri": "https://localhost:8080/"
        },
        "id": "jfWKdhm8f_kB",
        "outputId": "3898367b-c719-4fb8-f899-2dc2a2c37a3d"
      },
      "source": [
        "train = x_train.join(y_train)\n",
        "test = x_val.join(y_val)\n",
        "train,test"
      ],
      "execution_count": 7,
      "outputs": [
        {
          "output_type": "execute_result",
          "data": {
            "text/plain": [
              "(                                                question1  ... is_duplicate\n",
              " 273779  How can I season steak? What spices should I use?  ...            1\n",
              " 321969  Everytime I make out with my boyfriend, he cut...  ...            0\n",
              " 142991             Which book shall I prefer for the CAT?  ...            1\n",
              " 343029                           Topics for presentation?  ...            0\n",
              " 62927   How many people die in a day on average worldw...  ...            1\n",
              " ...                                                   ...  ...          ...\n",
              " 74017          What is the process to get a job at Wipro?  ...            0\n",
              " 25236                  How can I become more interesting?  ...            1\n",
              " 266501                     Is marrying your cousin wrong?  ...            1\n",
              " 403524           How important is C++ in app development?  ...            0\n",
              " 186170  What is the reason behind the sudden discontin...  ...            1\n",
              " \n",
              " [323432 rows x 3 columns],\n",
              "                                                 question1  ... is_duplicate\n",
              " 267360          How can I block Facebook messenger calls?  ...            0\n",
              " 34156                    What do mermaids supposedly eat?  ...            1\n",
              " 53679   How does demonetization of the 500 and 1000 no...  ...            1\n",
              " 283121      Who is the best politician in the world? Why?  ...            1\n",
              " 15724   Was good captaincy the reason for India's win ...  ...            0\n",
              " ...                                                   ...  ...          ...\n",
              " 173769     What does it mean when your left eye twitches?  ...            0\n",
              " 107056  Can an Indian guy attract white women if he is...  ...            1\n",
              " 395171             How do I configure a universal remote?  ...            1\n",
              " 158552        What do white women think about black guys?  ...            0\n",
              " 344319  What mistakes by NASA were made before launchi...  ...            0\n",
              " \n",
              " [80858 rows x 3 columns])"
            ]
          },
          "metadata": {},
          "execution_count": 7
        }
      ]
    },
    {
      "cell_type": "code",
      "metadata": {
        "colab": {
          "base_uri": "https://localhost:8080/"
        },
        "id": "Vw7kidOQuk0I",
        "outputId": "fbfae908-96f4-4f7e-e5f6-816da8e02c9a"
      },
      "source": [
        "train['question1']"
      ],
      "execution_count": 8,
      "outputs": [
        {
          "output_type": "execute_result",
          "data": {
            "text/plain": [
              "273779    How can I season steak? What spices should I use?\n",
              "321969    Everytime I make out with my boyfriend, he cut...\n",
              "142991               Which book shall I prefer for the CAT?\n",
              "343029                             Topics for presentation?\n",
              "62927     How many people die in a day on average worldw...\n",
              "                                ...                        \n",
              "74017            What is the process to get a job at Wipro?\n",
              "25236                    How can I become more interesting?\n",
              "266501                       Is marrying your cousin wrong?\n",
              "403524             How important is C++ in app development?\n",
              "186170    What is the reason behind the sudden discontin...\n",
              "Name: question1, Length: 323432, dtype: object"
            ]
          },
          "metadata": {},
          "execution_count": 8
        }
      ]
    },
    {
      "cell_type": "code",
      "metadata": {
        "id": "YEfJFc0RSUy3"
      },
      "source": [
        "def clean_dataframe_train(train):\n",
        "    stop_words = ['the','a','an','and','but','if','or','because','as','what','which','this','that','these','those','then',\n",
        "              'just','so','than','such','both','through','about','for','is','of','while','during','to','What','Which',\n",
        "              'Is','If','While','This']\n",
        "    def text_to_wordlist(text, remove_stop_words=True, stem_words=False):\n",
        "        text = re.sub(r\"[^A-Za-z0-9]\", \" \", text)\n",
        "        text = re.sub(r\"what's\", \"\", text)\n",
        "        text = re.sub(r\"What's\", \"\", text)\n",
        "        text = re.sub(r\"\\'s\", \" \", text)\n",
        "        text = re.sub(r\"\\'ve\", \" have \", text)\n",
        "        text = re.sub(r\"can't\", \"cannot \", text)\n",
        "        text = re.sub(r\"n't\", \" not \", text)\n",
        "        text = re.sub(r\"I'm\", \"I am\", text)\n",
        "        text = re.sub(r\" m \", \" am \", text)\n",
        "        text = re.sub(r\"\\'re\", \" are \", text)\n",
        "        text = re.sub(r\"\\'d\", \" would \", text)\n",
        "        text = re.sub(r\"\\'ll\", \" will \", text)\n",
        "        text = re.sub(r\"60k\", \" 60000 \", text)\n",
        "        text = re.sub(r\" e g \", \" eg \", text)\n",
        "        text = re.sub(r\" b g \", \" bg \", text)\n",
        "        text = re.sub(r\"\\0s\", \"0\", text)\n",
        "        text = re.sub(r\" 9 11 \", \"911\", text)\n",
        "        text = re.sub(r\"e-mail\", \"email\", text)\n",
        "        text = re.sub(r\"\\s{2,}\", \" \", text)\n",
        "        text = re.sub(r\"quikly\", \"quickly\", text)\n",
        "        text = re.sub(r\" usa \", \" America \", text)\n",
        "        text = re.sub(r\" USA \", \" America \", text)\n",
        "        text = re.sub(r\" u s \", \" America \", text)\n",
        "        text = re.sub(r\" uk \", \" England \", text)\n",
        "        text = re.sub(r\" UK \", \" England \", text)\n",
        "        text = re.sub(r\"india\", \"India\", text)\n",
        "        text = re.sub(r\"switzerland\", \"Switzerland\", text)\n",
        "        text = re.sub(r\"china\", \"China\", text)\n",
        "        text = re.sub(r\"chinese\", \"Chinese\", text) \n",
        "        text = re.sub(r\"imrovement\", \"improvement\", text)\n",
        "        text = re.sub(r\"intially\", \"initially\", text)\n",
        "        text = re.sub(r\"quora\", \"Quora\", text)\n",
        "        text = re.sub(r\" dms \", \"direct messages \", text)  \n",
        "        text = re.sub(r\"demonitization\", \"demonetization\", text) \n",
        "        text = re.sub(r\"actived\", \"active\", text)\n",
        "        text = re.sub(r\"kms\", \" kilometers \", text)\n",
        "        text = re.sub(r\"KMs\", \" kilometers \", text)\n",
        "        text = re.sub(r\" cs \", \" computer science \", text) \n",
        "        text = re.sub(r\" upvotes \", \" up votes \", text)\n",
        "        text = re.sub(r\" iPhone \", \" phone \", text)\n",
        "        text = re.sub(r\"\\0rs \", \" rs \", text) \n",
        "        text = re.sub(r\"calender\", \"calendar\", text)\n",
        "        text = re.sub(r\"ios\", \"operating system\", text)\n",
        "        text = re.sub(r\"gps\", \"GPS\", text)\n",
        "        text = re.sub(r\"gst\", \"GST\", text)\n",
        "        text = re.sub(r\"programing\", \"programming\", text)\n",
        "        text = re.sub(r\"bestfriend\", \"best friend\", text)\n",
        "        text = re.sub(r\"dna\", \"DNA\", text)\n",
        "        text = re.sub(r\"III\", \"3\", text) \n",
        "        text = re.sub(r\"the US\", \"America\", text)\n",
        "        text = re.sub(r\"Astrology\", \"astrology\", text)\n",
        "        text = re.sub(r\"Method\", \"method\", text)\n",
        "        text = re.sub(r\"Find\", \"find\", text) \n",
        "        text = re.sub(r\"banglore\", \"Banglore\", text)\n",
        "        text = re.sub(r\" J K \", \" JK \", text)\n",
        "\n",
        "        text = ''.join([c for c in text if c not in punctuation])\n",
        "\n",
        "        if remove_stop_words:\n",
        "            text = text.split()\n",
        "            text = [w for w in text if not w in stop_words]\n",
        "            text = \" \".join(text)\n",
        "\n",
        "        if stem_words:\n",
        "            text = text.split()\n",
        "            stemmer = SnowballStemmer('english')\n",
        "            stemmed_words = [stemmer.stem(word) for word in text]\n",
        "            text = \" \".join(stemmed_words)\n",
        "\n",
        "        return(text)\n",
        "    \n",
        "    def process_questions(question_list, questions, question_list_name, dataframe):\n",
        "        for question in questions:\n",
        "            question_list.append(text_to_wordlist(str(question)))\n",
        "            if len(question_list) % 100000 == 0:\n",
        "                progress = len(question_list)/len(dataframe) * 100\n",
        "                print(\"{} is {}% complete.\".format(question_list_name, round(progress, 1)))\n",
        "            \n",
        "    \n",
        "    train_question1 = []\n",
        "    process_questions(train_question1, train.question1, 'train_question1', train)\n",
        "\n",
        "    train_question2 = []\n",
        "    process_questions(train_question2, train.question2, 'train_question2', train)\n",
        "\n",
        "    train[\"question1\"] = train_question1\n",
        "    train[\"question2\"] = train_question2\n",
        "    \n",
        "    return train"
      ],
      "execution_count": 9,
      "outputs": []
    },
    {
      "cell_type": "code",
      "metadata": {
        "id": "NEodGNUKgmCD"
      },
      "source": [
        "def clean_dataframe_test(test):\n",
        "    stop_words = ['the','a','an','and','but','if','or','because','as','what','which','this','that','these','those','then',\n",
        "              'just','so','than','such','both','through','about','for','is','of','while','during','to','What','Which',\n",
        "              'Is','If','While','This']\n",
        "    def text_to_wordlist(text, remove_stop_words=True, stem_words=False):\n",
        "        text = re.sub(r\"[^A-Za-z0-9]\", \" \", text)\n",
        "        text = re.sub(r\"what's\", \"\", text)\n",
        "        text = re.sub(r\"What's\", \"\", text)\n",
        "        text = re.sub(r\"\\'s\", \" \", text)\n",
        "        text = re.sub(r\"\\'ve\", \" have \", text)\n",
        "        text = re.sub(r\"can't\", \"cannot \", text)\n",
        "        text = re.sub(r\"n't\", \" not \", text)\n",
        "        text = re.sub(r\"I'm\", \"I am\", text)\n",
        "        text = re.sub(r\" m \", \" am \", text)\n",
        "        text = re.sub(r\"\\'re\", \" are \", text)\n",
        "        text = re.sub(r\"\\'d\", \" would \", text)\n",
        "        text = re.sub(r\"\\'ll\", \" will \", text)\n",
        "        text = re.sub(r\"60k\", \" 60000 \", text)\n",
        "        text = re.sub(r\" e g \", \" eg \", text)\n",
        "        text = re.sub(r\" b g \", \" bg \", text)\n",
        "        text = re.sub(r\"\\0s\", \"0\", text)\n",
        "        text = re.sub(r\" 9 11 \", \"911\", text)\n",
        "        text = re.sub(r\"e-mail\", \"email\", text)\n",
        "        text = re.sub(r\"\\s{2,}\", \" \", text)\n",
        "        text = re.sub(r\"quikly\", \"quickly\", text)\n",
        "        text = re.sub(r\" usa \", \" America \", text)\n",
        "        text = re.sub(r\" USA \", \" America \", text)\n",
        "        text = re.sub(r\" u s \", \" America \", text)\n",
        "        text = re.sub(r\" uk \", \" England \", text)\n",
        "        text = re.sub(r\" UK \", \" England \", text)\n",
        "        text = re.sub(r\"india\", \"India\", text)\n",
        "        text = re.sub(r\"switzerland\", \"Switzerland\", text)\n",
        "        text = re.sub(r\"china\", \"China\", text)\n",
        "        text = re.sub(r\"chinese\", \"Chinese\", text) \n",
        "        text = re.sub(r\"imrovement\", \"improvement\", text)\n",
        "        text = re.sub(r\"intially\", \"initially\", text)\n",
        "        text = re.sub(r\"quora\", \"Quora\", text)\n",
        "        text = re.sub(r\" dms \", \"direct messages \", text)  \n",
        "        text = re.sub(r\"demonitization\", \"demonetization\", text) \n",
        "        text = re.sub(r\"actived\", \"active\", text)\n",
        "        text = re.sub(r\"kms\", \" kilometers \", text)\n",
        "        text = re.sub(r\"KMs\", \" kilometers \", text)\n",
        "        text = re.sub(r\" cs \", \" computer science \", text) \n",
        "        text = re.sub(r\" upvotes \", \" up votes \", text)\n",
        "        text = re.sub(r\" iPhone \", \" phone \", text)\n",
        "        text = re.sub(r\"\\0rs \", \" rs \", text) \n",
        "        text = re.sub(r\"calender\", \"calendar\", text)\n",
        "        text = re.sub(r\"ios\", \"operating system\", text)\n",
        "        text = re.sub(r\"gps\", \"GPS\", text)\n",
        "        text = re.sub(r\"gst\", \"GST\", text)\n",
        "        text = re.sub(r\"programing\", \"programming\", text)\n",
        "        text = re.sub(r\"bestfriend\", \"best friend\", text)\n",
        "        text = re.sub(r\"dna\", \"DNA\", text)\n",
        "        text = re.sub(r\"III\", \"3\", text) \n",
        "        text = re.sub(r\"the US\", \"America\", text)\n",
        "        text = re.sub(r\"Astrology\", \"astrology\", text)\n",
        "        text = re.sub(r\"Method\", \"method\", text)\n",
        "        text = re.sub(r\"Find\", \"find\", text) \n",
        "        text = re.sub(r\"banglore\", \"Banglore\", text)\n",
        "        text = re.sub(r\" J K \", \" JK \", text)\n",
        "\n",
        "        text = ''.join([c for c in text if c not in punctuation])\n",
        "\n",
        "        if remove_stop_words:\n",
        "            text = text.split()\n",
        "            text = [w for w in text if not w in stop_words]\n",
        "            text = \" \".join(text)\n",
        "\n",
        "        if stem_words:\n",
        "            text = text.split()\n",
        "            stemmer = SnowballStemmer('english')\n",
        "            stemmed_words = [stemmer.stem(word) for word in text]\n",
        "            text = \" \".join(stemmed_words)\n",
        "\n",
        "        return(text)\n",
        "    \n",
        "    def process_questions(question_list, questions, question_list_name, dataframe):\n",
        "        for question in questions:\n",
        "            question_list.append(text_to_wordlist(str(question)))\n",
        "            if len(question_list) % 100000 == 0:\n",
        "                progress = len(question_list)/len(dataframe) * 100\n",
        "                print(\"{} is {}% complete.\".format(question_list_name, round(progress, 1)))\n",
        "            \n",
        "    \n",
        "    test_question1 = []\n",
        "    process_questions(test_question1, test.question1, 'test_question1', test)\n",
        "\n",
        "    test_question2 = []\n",
        "    process_questions(test_question2, test.question2, 'test_question2', test)\n",
        "\n",
        "    test[\"question1\"] = test_question1\n",
        "    test[\"question2\"] = test_question2\n",
        "    \n",
        "    return test"
      ],
      "execution_count": 10,
      "outputs": []
    },
    {
      "cell_type": "code",
      "metadata": {
        "colab": {
          "base_uri": "https://localhost:8080/"
        },
        "id": "Yovy054LShGg",
        "outputId": "cae48f16-9495-4f92-cc4c-8f9165ab827c"
      },
      "source": [
        "train = clean_dataframe_train(train)\n",
        "test = clean_dataframe_test(test)"
      ],
      "execution_count": 11,
      "outputs": [
        {
          "output_type": "stream",
          "name": "stdout",
          "text": [
            "train_question1 is 30.9% complete.\n",
            "train_question1 is 61.8% complete.\n",
            "train_question1 is 92.8% complete.\n",
            "train_question2 is 30.9% complete.\n",
            "train_question2 is 61.8% complete.\n",
            "train_question2 is 92.8% complete.\n"
          ]
        }
      ]
    },
    {
      "cell_type": "code",
      "metadata": {
        "colab": {
          "base_uri": "https://localhost:8080/"
        },
        "id": "jihIEh_6xVaR",
        "outputId": "5a091718-eb13-4eaf-b24a-e09a58f8a61f"
      },
      "source": [
        "train,test"
      ],
      "execution_count": 12,
      "outputs": [
        {
          "output_type": "execute_result",
          "data": {
            "text/plain": [
              "(                                                question1  ... is_duplicate\n",
              " 273779         How can I season steak spices should I use  ...            1\n",
              " 321969  Everytime I make out with my boyfriend he cuts...  ...            0\n",
              " 142991                            book shall I prefer CAT  ...            1\n",
              " 343029                                Topics presentation  ...            0\n",
              " 62927     How many people die in day on average worldwide  ...            1\n",
              " ...                                                   ...  ...          ...\n",
              " 74017                            process get job at Wipro  ...            0\n",
              " 25236                   How can I become more interesting  ...            1\n",
              " 266501                         marrying your cousin wrong  ...            1\n",
              " 403524                 How important C in app development  ...            0\n",
              " 186170  reason behind sudden discontinuance 500 1000 n...  ...            1\n",
              " \n",
              " [323432 rows x 3 columns],\n",
              "                                                 question1  ... is_duplicate\n",
              " 267360           How can I block Facebook messenger calls  ...            0\n",
              " 34156                          do mermaids supposedly eat  ...            1\n",
              " 53679   How does demonetization 500 1000 notes bring d...  ...            1\n",
              " 283121                   Who best politician in world Why  ...            1\n",
              " 15724   Was good captaincy reason India s win over Sou...  ...            0\n",
              " ...                                                   ...  ...          ...\n",
              " 173769           does it mean when your left eye twitches  ...            0\n",
              " 107056  Can Indian guy attract white women he tall has...  ...            1\n",
              " 395171                How do I configure universal remote  ...            1\n",
              " 158552                    do white women think black guys  ...            0\n",
              " 344319  mistakes by NASA were made before launching sa...  ...            0\n",
              " \n",
              " [80858 rows x 3 columns])"
            ]
          },
          "metadata": {},
          "execution_count": 12
        }
      ]
    },
    {
      "cell_type": "code",
      "metadata": {
        "id": "HQv039TXSkrv"
      },
      "source": [
        "MAX_SEQUENCE_LENGTH = 20\n",
        "EMBEDDING_DIM = 300"
      ],
      "execution_count": 13,
      "outputs": []
    },
    {
      "cell_type": "code",
      "metadata": {
        "id": "LsK6Cf8JSl1B"
      },
      "source": [
        "corpus = []\n",
        "\n",
        "feats = ['question1','question2']\n",
        "for f in feats:\n",
        "    train[f] = train[f].astype(str)\n",
        "    test[f] = test[f].astype(str)\n",
        "    corpus+=train[f].values.tolist()\n",
        "    \n",
        "    \n",
        "tokenizer = Tokenizer()\n",
        "tokenizer.fit_on_texts(corpus)\n",
        "X_q1 = tokenizer.texts_to_sequences(train['question1'])\n",
        "X_q2 = tokenizer.texts_to_sequences(train['question2'])\n",
        "\n",
        "X_test_q1 = tokenizer.texts_to_sequences(test['question1'])\n",
        "X_test_q2 = tokenizer.texts_to_sequences(test['question2'])\n",
        "\n",
        "\n",
        "X_q1 = pad_sequences(X_q1, maxlen=MAX_SEQUENCE_LENGTH)\n",
        "X_q2 = pad_sequences(X_q2, maxlen=MAX_SEQUENCE_LENGTH)\n",
        "X_test_q1 = pad_sequences(X_test_q1, maxlen=MAX_SEQUENCE_LENGTH)\n",
        "X_test_q2 = pad_sequences(X_test_q2, maxlen=MAX_SEQUENCE_LENGTH)\n",
        "\n",
        "y = train['is_duplicate'].values\n",
        "\n",
        "word_index = tokenizer.word_index\n",
        "nb_words = len(word_index)+1"
      ],
      "execution_count": 14,
      "outputs": []
    },
    {
      "cell_type": "code",
      "metadata": {
        "colab": {
          "base_uri": "https://localhost:8080/"
        },
        "id": "_86kWYGSv1OP",
        "outputId": "0e40b7ad-d696-4c94-a66b-90cc8787f015"
      },
      "source": [
        "print(train['question1'])"
      ],
      "execution_count": 15,
      "outputs": [
        {
          "output_type": "stream",
          "name": "stdout",
          "text": [
            "273779           How can I season steak spices should I use\n",
            "321969    Everytime I make out with my boyfriend he cuts...\n",
            "142991                              book shall I prefer CAT\n",
            "343029                                  Topics presentation\n",
            "62927       How many people die in day on average worldwide\n",
            "                                ...                        \n",
            "74017                              process get job at Wipro\n",
            "25236                     How can I become more interesting\n",
            "266501                           marrying your cousin wrong\n",
            "403524                   How important C in app development\n",
            "186170    reason behind sudden discontinuance 500 1000 n...\n",
            "Name: question1, Length: 323432, dtype: object\n"
          ]
        }
      ]
    },
    {
      "cell_type": "code",
      "metadata": {
        "colab": {
          "base_uri": "https://localhost:8080/"
        },
        "id": "Od9LwVtIZs2f",
        "outputId": "3957676e-f3ad-4286-d5e5-8631d37dc240"
      },
      "source": [
        "!ls -al\n",
        "!mkdir .vector_cache\n",
        "!cp /content/drive/MyDrive/MaLSTM/.vector_cache/glove.840B.300d.zip .vector_cache/glove.840B.300d.zip"
      ],
      "execution_count": 16,
      "outputs": [
        {
          "output_type": "stream",
          "name": "stdout",
          "text": [
            "total 20\n",
            "drwxr-xr-x 1 root root 4096 Nov 24 05:54 .\n",
            "drwxr-xr-x 1 root root 4096 Nov 24 05:53 ..\n",
            "drwxr-xr-x 4 root root 4096 Nov 18 14:35 .config\n",
            "drwx------ 5 root root 4096 Nov 24 05:54 drive\n",
            "drwxr-xr-x 1 root root 4096 Nov 18 14:36 sample_data\n",
            "^C\n"
          ]
        }
      ]
    },
    {
      "cell_type": "code",
      "metadata": {
        "id": "KG04TodqaBEU"
      },
      "source": [
        "!ls .vector_cache"
      ],
      "execution_count": 17,
      "outputs": []
    },
    {
      "cell_type": "code",
      "metadata": {
        "colab": {
          "base_uri": "https://localhost:8080/"
        },
        "id": "4FYzKAxTglMs",
        "outputId": "0a90ece4-924c-4b93-a8d0-3e6be1e415ae"
      },
      "source": [
        "import torchtext.vocab as vocab\n",
        "glove = vocab.GloVe(name='840B', dim=300)"
      ],
      "execution_count": 16,
      "outputs": [
        {
          "output_type": "stream",
          "name": "stderr",
          "text": [
            ".vector_cache/glove.840B.300d.zip: 2.18GB [07:00, 5.18MB/s]                            \n",
            "100%|█████████▉| 2196016/2196017 [04:52<00:00, 7496.73it/s]\n"
          ]
        }
      ]
    },
    {
      "cell_type": "code",
      "metadata": {
        "id": "LtCSPwT4sTlB",
        "colab": {
          "base_uri": "https://localhost:8080/"
        },
        "outputId": "37917f86-1749-469b-8cb7-24119fe7db90"
      },
      "source": [
        "glove['apple']"
      ],
      "execution_count": 17,
      "outputs": [
        {
          "output_type": "execute_result",
          "data": {
            "text/plain": [
              "tensor([-3.6391e-01,  4.3771e-01, -2.0447e-01, -2.2889e-01, -1.4227e-01,\n",
              "         2.7396e-01, -1.1435e-02, -1.8578e-01,  3.7361e-01,  7.5339e-01,\n",
              "        -3.0591e-01,  2.3741e-02, -7.7876e-01, -1.3802e-01,  6.6992e-02,\n",
              "        -6.4303e-02, -4.0024e-01,  1.5309e+00, -1.3897e-02, -1.5657e-01,\n",
              "         2.5366e-01,  2.1610e-01, -3.2720e-01,  3.4974e-01, -6.4845e-02,\n",
              "        -2.9501e-01, -6.3923e-01, -6.2017e-02,  2.4559e-01, -6.9334e-02,\n",
              "        -3.9967e-01,  3.0925e-02,  4.9033e-01,  6.7524e-01,  1.9481e-01,\n",
              "         5.1488e-01, -3.1149e-01, -7.9939e-02, -6.2096e-01, -5.3277e-03,\n",
              "        -1.1264e-01,  8.3528e-02, -7.6947e-03, -1.0788e-01,  1.6628e-01,\n",
              "         4.2273e-01, -1.9009e-01, -2.9035e-01,  4.5630e-02,  1.0120e-01,\n",
              "        -4.0855e-01, -3.5000e-01, -3.6175e-01, -4.1396e-01,  5.9485e-01,\n",
              "        -1.1524e+00,  3.2424e-02,  3.4364e-01, -1.9209e-01,  4.3255e-02,\n",
              "         4.9227e-02, -5.4258e-01,  9.1275e-01,  2.9576e-01,  2.3658e-02,\n",
              "        -6.8737e-01, -1.9503e-01, -1.1059e-01, -2.2567e-01,  2.4180e-01,\n",
              "        -3.1230e-01,  4.2700e-01,  8.3952e-02,  2.2703e-01,  3.0581e-01,\n",
              "        -1.7276e-01,  3.2536e-01,  5.4696e-03, -3.2745e-01,  1.9439e-01,\n",
              "         2.2616e-01,  7.4742e-02,  2.2033e-01, -4.0301e-01, -3.1594e-01,\n",
              "        -2.8910e-02,  9.7858e-01,  7.1860e-01,  1.4995e-01,  6.3421e-02,\n",
              "         2.8332e-01, -1.5231e-01,  3.9330e-04,  1.8076e-01, -4.0199e-01,\n",
              "         6.0187e-02, -2.7543e-02,  1.6590e-01, -2.5774e-01,  1.6150e-01,\n",
              "         3.7247e-01, -3.8273e-01,  2.4012e-01, -4.2617e-02, -6.6785e-01,\n",
              "        -9.4437e-01,  2.7916e-01,  1.0476e-01,  1.3952e+00, -1.4296e-01,\n",
              "        -5.5049e-01,  5.3982e-02, -7.7524e-01, -2.8255e-01, -2.3323e-02,\n",
              "         2.4801e-01,  2.2855e-01, -3.7408e-01,  7.6012e-02,  2.4031e-01,\n",
              "         1.0746e-01,  1.2411e-01, -2.0676e-01, -2.5804e-01, -1.6791e-01,\n",
              "         4.3499e-01,  6.1762e-01, -2.9955e-02,  1.6196e-01, -2.9001e-01,\n",
              "        -3.1159e-01, -8.7262e-01,  4.3167e-01, -1.5071e-01, -4.1420e-01,\n",
              "        -5.3730e-01, -1.9910e-01,  1.3270e-01, -1.5018e-01, -4.9335e-01,\n",
              "        -2.5127e+00,  3.1660e-01,  3.6396e-01, -5.9248e-02,  3.1120e-02,\n",
              "         4.1071e-02,  1.6917e-02,  5.8410e-01, -2.0201e-01,  7.0238e-02,\n",
              "         8.7547e-01, -2.0114e-01,  5.1920e-01,  2.6786e-01, -5.5643e-01,\n",
              "        -3.1247e-01, -3.7992e-01,  4.2857e-01,  4.1780e-01,  3.0608e-01,\n",
              "        -2.1657e-01,  7.2464e-01,  6.1734e-01,  5.8085e-02, -6.2708e-01,\n",
              "         5.2895e-02, -2.5628e-01, -3.2688e-01, -6.1280e-01,  6.2609e-01,\n",
              "        -1.7965e-01,  8.8925e-01,  2.1963e-01, -3.4052e-03, -7.8663e-02,\n",
              "         3.4799e-01, -2.6062e-01,  8.0410e-03,  1.1721e-01, -4.5147e-01,\n",
              "        -1.2178e-01, -5.7030e-01,  4.6602e-01,  2.5059e-02,  5.3986e-02,\n",
              "        -7.6693e-01,  1.3173e-01, -2.8776e-02, -4.1915e-01, -2.4415e-01,\n",
              "        -4.0295e-01, -4.1520e-01,  3.7643e-02, -1.4843e-01,  2.6094e-02,\n",
              "         1.5315e-01,  3.8310e-01, -5.5825e-01, -3.3433e-01, -2.7939e-02,\n",
              "        -4.3712e-01, -3.1802e-01, -3.1731e-01,  9.2891e-02, -9.9397e-02,\n",
              "        -1.8846e-01,  5.2270e-02,  2.9061e-01,  1.0639e+00,  9.9584e-02,\n",
              "        -5.6775e-01,  2.9446e-01,  3.7797e-01, -2.1905e-01, -5.2616e-01,\n",
              "        -4.1744e-01, -6.5951e-01, -4.0820e-01, -6.0945e-01,  1.1759e-02,\n",
              "        -2.9122e-01, -3.1457e-01,  5.7076e-02,  4.1503e-01,  3.7345e-01,\n",
              "        -4.7119e-02, -7.1996e-02,  1.4587e-01, -3.0763e-01,  1.0759e-01,\n",
              "        -5.9447e-01, -4.0205e-01,  3.0677e-01, -1.9891e-01, -7.0775e-01,\n",
              "        -1.1513e-01,  3.0866e-01, -6.9235e-01,  2.1219e-01,  1.0554e-01,\n",
              "         2.2617e-01, -2.6145e-01, -3.9298e-01, -2.3585e-01,  3.0795e-02,\n",
              "        -1.0193e-01,  3.2070e-01,  3.0505e-01, -5.3470e-01, -7.9272e-02,\n",
              "        -1.6817e-01, -2.2115e-01, -3.5143e-01, -9.2376e-02,  1.4686e-01,\n",
              "        -1.9859e-01,  2.0460e-01,  2.0276e-01,  3.6144e-01, -3.5867e-01,\n",
              "         4.0095e-01,  6.3686e-02, -1.2763e-01, -1.6226e-01, -3.1763e-01,\n",
              "        -5.8732e-01, -5.4009e-01, -4.9035e-01, -4.6035e-01, -1.9794e-01,\n",
              "        -2.5209e-01,  2.5706e-01,  4.0110e-01,  5.2830e-02, -3.2079e-01,\n",
              "         3.9563e-01, -4.4512e-01, -9.1862e-02, -1.9243e-01,  1.5397e-01,\n",
              "        -2.8923e-01,  6.0561e-01,  5.8133e-01,  3.2268e-01,  6.3892e-02,\n",
              "         8.5438e-02,  1.4956e-01,  3.8134e-01, -1.1820e-01, -2.3951e-01,\n",
              "        -6.7731e-01,  2.8090e-01, -5.1770e-01, -4.1098e-01, -4.1292e-01,\n",
              "        -6.7856e-02, -3.3721e-02, -7.2958e-01, -4.7891e-01,  7.2956e-01])"
            ]
          },
          "metadata": {},
          "execution_count": 17
        }
      ]
    },
    {
      "cell_type": "code",
      "metadata": {
        "id": "gPdDT8-RSpe_"
      },
      "source": [
        "def get_coefs(word, *arr):\n",
        "    return word, np.asarray(arr, dtype='float32')\n",
        "\n",
        "def load_embeddings(path):\n",
        "    with open(path) as f:\n",
        "        return dict(get_coefs(*line.strip().split(' ')) for line in tqdm(f))\n",
        "\n",
        "# def load_google_word_embeddings(path):\n",
        "#     return KeyedVectors.load_word2vec_format('/content/drive/MyDrive/MaLSTM/GoogleNews-vectors-negative300.bin.gz', binary=True) \n",
        "\n",
        "def build_matrix(word_index, path):\n",
        "    # embedding_index = load_google_word_embeddings(path)\n",
        "    embedding_matrix = np.zeros((len(word_index) + 1, 300))\n",
        "    unknown_words = []\n",
        "    \n",
        "    for word, i in word_index.items():\n",
        "        try:\n",
        "            embedding_matrix[i] = glove[word]\n",
        "        except KeyError:\n",
        "            unknown_words.append(word)\n",
        "    return embedding_matrix, unknown_words\n",
        "\n",
        "glove_path = 'glove.840B.300d.txt'\n",
        "embedding_matrix,unknown_words = build_matrix(word_index,glove_path)"
      ],
      "execution_count": 18,
      "outputs": []
    },
    {
      "cell_type": "code",
      "metadata": {
        "colab": {
          "base_uri": "https://localhost:8080/"
        },
        "id": "Q3AinqYQnAux",
        "outputId": "b43c40cd-0972-4229-a09e-a357f919e914"
      },
      "source": [
        "embedding_matrix.shape"
      ],
      "execution_count": 19,
      "outputs": [
        {
          "output_type": "execute_result",
          "data": {
            "text/plain": [
              "(77675, 300)"
            ]
          },
          "metadata": {},
          "execution_count": 19
        }
      ]
    },
    {
      "cell_type": "code",
      "metadata": {
        "id": "_5Qd9nFJSsC7"
      },
      "source": [
        "# from sklearn.metrics import log_loss\n",
        "# from sklearn.model_selection import train_test_split\n",
        "# X_train_q1,X_val_q1,X_train_q2,X_val_q2,y_train,y_val = train_test_split(X_q1,X_q2,y,train_size=0.8,random_state=1024)\n",
        "# print(X_train_q1.shape,X_val_q1.shape)\n",
        "# X_train = [X_train_q1,X_train_q2]\n",
        "# X_val = [X_val_q1,X_val_q2]\n",
        "# X_test = [X_test_q1,X_test_q2]"
      ],
      "execution_count": 20,
      "outputs": []
    },
    {
      "cell_type": "code",
      "metadata": {
        "id": "U-Y6vSlLpMoq"
      },
      "source": [
        "from sklearn.metrics import log_loss\n",
        "X_train = [X_q1, X_q2]\n",
        "X_val = [X_test_q1, X_test_q2]\n",
        "y_val = test['is_duplicate'].values"
      ],
      "execution_count": 21,
      "outputs": []
    },
    {
      "cell_type": "code",
      "metadata": {
        "colab": {
          "base_uri": "https://localhost:8080/"
        },
        "id": "LghDcSd3vhLp",
        "outputId": "69c70d41-675f-43ea-e344-80f479fc62c2"
      },
      "source": [
        "print(X_q1.shape, X_q2.shape,train.shape, X_test_q1.shape)\n",
        "y.shape,y_val.shape"
      ],
      "execution_count": 22,
      "outputs": [
        {
          "output_type": "stream",
          "name": "stdout",
          "text": [
            "(323432, 20) (323432, 20) (323432, 3) (80858, 20)\n"
          ]
        },
        {
          "output_type": "execute_result",
          "data": {
            "text/plain": [
              "((323432,), (80858,))"
            ]
          },
          "metadata": {},
          "execution_count": 22
        }
      ]
    },
    {
      "cell_type": "code",
      "metadata": {
        "id": "meN4rk4N_6lI"
      },
      "source": [
        "def exponent_neg_manhattan_distance(left, right):\n",
        "    ''' \n",
        "    Purpose : Helper function for the similarity estimate of the LSTMs outputs\n",
        "    Inputs : Two n-dimensional vectors\n",
        "    Output : Manhattan distance between the input vectors\n",
        "    \n",
        "    '''\n",
        "    import keras.backend as K\n",
        "    return K.exp(-K.sum(K.abs(left-right), axis=1, keepdims=True))"
      ],
      "execution_count": 23,
      "outputs": []
    },
    {
      "cell_type": "code",
      "metadata": {
        "colab": {
          "base_uri": "https://localhost:8080/",
          "height": 1000
        },
        "id": "jBVJ0gCRSxuQ",
        "outputId": "23a02ab9-1e9f-43a3-eec7-834440332581"
      },
      "source": [
        "input_q1 = Input(shape = X_train[0].shape[1])\n",
        "input_q2 = Input(shape = X_train[0].shape[1])\n",
        "\n",
        "embedding_layer = Embedding(nb_words,\n",
        "                            EMBEDDING_DIM,\n",
        "                            input_length = X_train[0].shape[1],\n",
        "                            weights = [embedding_matrix],\n",
        "                            trainable=False)\n",
        "\n",
        "\n",
        "embedded_sequences_q1 = embedding_layer(input_q1)\n",
        "embedded_sequences_q2 = embedding_layer(input_q2)\n",
        "\n",
        "bilstm_layer = LSTM(128)\n",
        "\n",
        "x1 = bilstm_layer(embedded_sequences_q1)\n",
        "x2 = bilstm_layer(embedded_sequences_q2)\n",
        "\n",
        "distance = exponent_neg_manhattan_distance(x1, x2)\n",
        "# x = Dense(64, activation=\"relu\")(distance)\n",
        "\n",
        "model = Model(inputs=[input_q1, input_q2], outputs=distance)\n",
        "model.compile(loss=\"mean_squared_error\",\n",
        "              optimizer=\"adam\",\n",
        "              metrics=[\"accuracy\"])\n",
        "\n",
        "\n",
        "\n",
        "model.summary()\n",
        "utils.plot_model(model, show_shapes=True, expand_nested=True)"
      ],
      "execution_count": 24,
      "outputs": [
        {
          "output_type": "stream",
          "name": "stdout",
          "text": [
            "Model: \"model\"\n",
            "__________________________________________________________________________________________________\n",
            " Layer (type)                   Output Shape         Param #     Connected to                     \n",
            "==================================================================================================\n",
            " input_1 (InputLayer)           [(None, 20)]         0           []                               \n",
            "                                                                                                  \n",
            " input_2 (InputLayer)           [(None, 20)]         0           []                               \n",
            "                                                                                                  \n",
            " embedding (Embedding)          (None, 20, 300)      23302500    ['input_1[0][0]',                \n",
            "                                                                  'input_2[0][0]']                \n",
            "                                                                                                  \n",
            " lstm (LSTM)                    (None, 128)          219648      ['embedding[0][0]',              \n",
            "                                                                  'embedding[1][0]']              \n",
            "                                                                                                  \n",
            " tf.math.subtract (TFOpLambda)  (None, 128)          0           ['lstm[0][0]',                   \n",
            "                                                                  'lstm[1][0]']                   \n",
            "                                                                                                  \n",
            " tf.math.abs (TFOpLambda)       (None, 128)          0           ['tf.math.subtract[0][0]']       \n",
            "                                                                                                  \n",
            " tf.math.reduce_sum (TFOpLambda  (None, 1)           0           ['tf.math.abs[0][0]']            \n",
            " )                                                                                                \n",
            "                                                                                                  \n",
            " tf.math.negative (TFOpLambda)  (None, 1)            0           ['tf.math.reduce_sum[0][0]']     \n",
            "                                                                                                  \n",
            " tf.math.exp (TFOpLambda)       (None, 1)            0           ['tf.math.negative[0][0]']       \n",
            "                                                                                                  \n",
            "==================================================================================================\n",
            "Total params: 23,522,148\n",
            "Trainable params: 219,648\n",
            "Non-trainable params: 23,302,500\n",
            "__________________________________________________________________________________________________\n"
          ]
        },
        {
          "output_type": "execute_result",
          "data": {
            "image/png": "[encoded data removed]",
            "text/plain": [
              "<IPython.core.display.Image object>"
            ]
          },
          "metadata": {},
          "execution_count": 24
        }
      ]
    },
    {
      "cell_type": "code",
      "metadata": {
        "colab": {
          "base_uri": "https://localhost:8080/"
        },
        "id": "QktO2HTDSzRi",
        "outputId": "2774b51e-447a-4e30-f2a8-0b46ee431003"
      },
      "source": [
        "es = callbacks.EarlyStopping(\n",
        "    monitor='val_loss', patience=3\n",
        ")\n",
        "checkpoint = callbacks.ModelCheckpoint('malstm.h5', save_best_only=True, save_weights_only=True)\n",
        "history = model.fit(\n",
        "    X_train, y_train,\n",
        "    validation_data=(X_val, y_val),\n",
        "    batch_size=2048, \n",
        "    epochs=32,\n",
        "    callbacks=[es,checkpoint]\n",
        ")"
      ],
      "execution_count": 25,
      "outputs": [
        {
          "output_type": "stream",
          "name": "stdout",
          "text": [
            "Epoch 1/32\n",
            "158/158 [==============================] - 24s 102ms/step - loss: 0.2132 - accuracy: 0.7124 - val_loss: 0.1668 - val_accuracy: 0.7551\n",
            "Epoch 2/32\n",
            "158/158 [==============================] - 15s 94ms/step - loss: 0.1563 - accuracy: 0.7752 - val_loss: 0.1530 - val_accuracy: 0.7815\n",
            "Epoch 3/32\n",
            "158/158 [==============================] - 15s 94ms/step - loss: 0.1470 - accuracy: 0.7930 - val_loss: 0.1477 - val_accuracy: 0.7929\n",
            "Epoch 4/32\n",
            "158/158 [==============================] - 15s 95ms/step - loss: 0.1421 - accuracy: 0.8023 - val_loss: 0.1441 - val_accuracy: 0.7972\n",
            "Epoch 5/32\n",
            "158/158 [==============================] - 15s 94ms/step - loss: 0.1387 - accuracy: 0.8083 - val_loss: 0.1418 - val_accuracy: 0.8023\n",
            "Epoch 6/32\n",
            "158/158 [==============================] - 15s 95ms/step - loss: 0.1360 - accuracy: 0.8129 - val_loss: 0.1395 - val_accuracy: 0.8038\n",
            "Epoch 7/32\n",
            "158/158 [==============================] - 15s 95ms/step - loss: 0.1335 - accuracy: 0.8165 - val_loss: 0.1382 - val_accuracy: 0.8087\n",
            "Epoch 8/32\n",
            "158/158 [==============================] - 15s 96ms/step - loss: 0.1314 - accuracy: 0.8205 - val_loss: 0.1361 - val_accuracy: 0.8105\n",
            "Epoch 9/32\n",
            "158/158 [==============================] - 15s 96ms/step - loss: 0.1294 - accuracy: 0.8234 - val_loss: 0.1350 - val_accuracy: 0.8119\n",
            "Epoch 10/32\n",
            "158/158 [==============================] - 15s 96ms/step - loss: 0.1276 - accuracy: 0.8268 - val_loss: 0.1342 - val_accuracy: 0.8166\n",
            "Epoch 11/32\n",
            "158/158 [==============================] - 15s 96ms/step - loss: 0.1261 - accuracy: 0.8293 - val_loss: 0.1327 - val_accuracy: 0.8170\n",
            "Epoch 12/32\n",
            "158/158 [==============================] - 15s 95ms/step - loss: 0.1246 - accuracy: 0.8313 - val_loss: 0.1322 - val_accuracy: 0.8193\n",
            "Epoch 13/32\n",
            "158/158 [==============================] - 15s 96ms/step - loss: 0.1232 - accuracy: 0.8339 - val_loss: 0.1311 - val_accuracy: 0.8183\n",
            "Epoch 14/32\n",
            "158/158 [==============================] - 15s 95ms/step - loss: 0.1219 - accuracy: 0.8365 - val_loss: 0.1306 - val_accuracy: 0.8207\n",
            "Epoch 15/32\n",
            "158/158 [==============================] - 15s 95ms/step - loss: 0.1207 - accuracy: 0.8386 - val_loss: 0.1298 - val_accuracy: 0.8217\n",
            "Epoch 16/32\n",
            "158/158 [==============================] - 15s 96ms/step - loss: 0.1196 - accuracy: 0.8410 - val_loss: 0.1293 - val_accuracy: 0.8222\n",
            "Epoch 17/32\n",
            "158/158 [==============================] - 15s 94ms/step - loss: 0.1185 - accuracy: 0.8423 - val_loss: 0.1287 - val_accuracy: 0.8225\n",
            "Epoch 18/32\n",
            "158/158 [==============================] - 15s 95ms/step - loss: 0.1175 - accuracy: 0.8440 - val_loss: 0.1282 - val_accuracy: 0.8230\n",
            "Epoch 19/32\n",
            "158/158 [==============================] - 15s 95ms/step - loss: 0.1165 - accuracy: 0.8459 - val_loss: 0.1277 - val_accuracy: 0.8240\n",
            "Epoch 20/32\n",
            "158/158 [==============================] - 15s 95ms/step - loss: 0.1155 - accuracy: 0.8475 - val_loss: 0.1275 - val_accuracy: 0.8263\n",
            "Epoch 21/32\n",
            "158/158 [==============================] - 15s 95ms/step - loss: 0.1146 - accuracy: 0.8492 - val_loss: 0.1267 - val_accuracy: 0.8260\n",
            "Epoch 22/32\n",
            "158/158 [==============================] - 15s 95ms/step - loss: 0.1137 - accuracy: 0.8503 - val_loss: 0.1266 - val_accuracy: 0.8275\n",
            "Epoch 23/32\n",
            "158/158 [==============================] - 15s 95ms/step - loss: 0.1129 - accuracy: 0.8520 - val_loss: 0.1260 - val_accuracy: 0.8279\n",
            "Epoch 24/32\n",
            "158/158 [==============================] - 15s 95ms/step - loss: 0.1120 - accuracy: 0.8536 - val_loss: 0.1257 - val_accuracy: 0.8267\n",
            "Epoch 25/32\n",
            "158/158 [==============================] - 15s 93ms/step - loss: 0.1114 - accuracy: 0.8545 - val_loss: 0.1258 - val_accuracy: 0.8264\n",
            "Epoch 26/32\n",
            "158/158 [==============================] - 15s 95ms/step - loss: 0.1106 - accuracy: 0.8560 - val_loss: 0.1250 - val_accuracy: 0.8285\n",
            "Epoch 27/32\n",
            "158/158 [==============================] - 15s 94ms/step - loss: 0.1098 - accuracy: 0.8574 - val_loss: 0.1248 - val_accuracy: 0.8285\n",
            "Epoch 28/32\n",
            "158/158 [==============================] - 15s 95ms/step - loss: 0.1091 - accuracy: 0.8589 - val_loss: 0.1245 - val_accuracy: 0.8287\n",
            "Epoch 29/32\n",
            "158/158 [==============================] - 15s 96ms/step - loss: 0.1083 - accuracy: 0.8596 - val_loss: 0.1243 - val_accuracy: 0.8290\n",
            "Epoch 30/32\n",
            "158/158 [==============================] - 15s 95ms/step - loss: 0.1077 - accuracy: 0.8609 - val_loss: 0.1242 - val_accuracy: 0.8295\n",
            "Epoch 31/32\n",
            "158/158 [==============================] - 15s 95ms/step - loss: 0.1070 - accuracy: 0.8622 - val_loss: 0.1241 - val_accuracy: 0.8298\n",
            "Epoch 32/32\n",
            "158/158 [==============================] - 15s 95ms/step - loss: 0.1064 - accuracy: 0.8633 - val_loss: 0.1237 - val_accuracy: 0.8311\n"
          ]
        }
      ]
    },
    {
      "cell_type": "code",
      "metadata": {
        "id": "daWjp6yex_Vj"
      },
      "source": [
        "model.save('/content/drive/MyDrive/MaLSTM/malstm.h5')"
      ],
      "execution_count": 26,
      "outputs": []
    },
    {
      "cell_type": "code",
      "metadata": {
        "id": "uuIGBbGHxgfB",
        "colab": {
          "base_uri": "https://localhost:8080/"
        },
        "outputId": "8355085b-6536-4091-c41f-0dc69da70eb5"
      },
      "source": [
        "modeL = load_model('/content/drive/MyDrive/MaLSTM/malstm.h5')\n",
        "y_predict = modeL.predict(X_val)\n",
        "y_predict = y_predict.reshape(y_val.shape)\n",
        "y_predict[y_predict >= 0.5] = 1\n",
        "y_predict[y_predict < 0.5] = 0\n",
        "y_predict"
      ],
      "execution_count": 65,
      "outputs": [
        {
          "output_type": "execute_result",
          "data": {
            "text/plain": [
              "array([0., 0., 1., ..., 1., 0., 0.], dtype=float32)"
            ]
          },
          "metadata": {},
          "execution_count": 65
        }
      ]
    },
    {
      "cell_type": "code",
      "metadata": {
        "colab": {
          "base_uri": "https://localhost:8080/"
        },
        "id": "tfX1dcwszLQN",
        "outputId": "69413069-49e8-489a-8cfc-0b0d52071d54"
      },
      "source": [
        "y_val = np.array(y_val)\n",
        "y_val"
      ],
      "execution_count": 66,
      "outputs": [
        {
          "output_type": "execute_result",
          "data": {
            "text/plain": [
              "array([0, 1, 1, ..., 1, 0, 0])"
            ]
          },
          "metadata": {},
          "execution_count": 66
        }
      ]
    },
    {
      "cell_type": "code",
      "metadata": {
        "colab": {
          "base_uri": "https://localhost:8080/"
        },
        "id": "w4_WYm5aqhn9",
        "outputId": "1ce6e9e6-d2c9-4f01-aad6-bab559daa57f"
      },
      "source": [
        "y_predict[y_predict == y_val].shape[0] / y_predict.shape[0]"
      ],
      "execution_count": 68,
      "outputs": [
        {
          "output_type": "execute_result",
          "data": {
            "text/plain": [
              "0.8310989636152267"
            ]
          },
          "metadata": {},
          "execution_count": 68
        }
      ]
    }
  ]
}