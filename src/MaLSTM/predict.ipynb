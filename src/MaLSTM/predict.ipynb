{
 "cells": [
  {
   "cell_type": "code",
   "execution_count": 1,
   "metadata": {
    "collapsed": true
   },
   "outputs": [],
   "source": [
    "from string import punctuation\n",
    "from nltk import SnowballStemmer\n",
    "from common import files\n",
    "from constant import NEW_LOG, OLD_LOG\n",
    "from BERT.json_processor import DataSetBuild\n",
    "import pandas as pd\n",
    "import re\n",
    "import os\n",
    "import json\n",
    "os.chdir('/Users/pkun/PycharmProjects/ui_api_automated_test')\n",
    "chinese_map_english = json.load(open('data/chinese_map_english.json', 'r'))"
   ]
  },
  {
   "cell_type": "code",
   "execution_count": 2,
   "outputs": [],
   "source": [
    "def clean_dataframe_train(train):\n",
    "    stop_words = ['the','a','an','and','but','if','or','because','as','what','which','this','that','these','those','then',\n",
    "              'just','so','than','such','both','through','about','for','is','of','while','during','to','What','Which',\n",
    "              'Is','If','While','This']\n",
    "    def text_to_wordlist(text, remove_stop_words=True, stem_words=False):\n",
    "        text = re.sub(r\"[^A-Za-z0-9]\", \" \", text)\n",
    "        text = re.sub(r\"what's\", \"\", text)\n",
    "        text = re.sub(r\"What's\", \"\", text)\n",
    "        text = re.sub(r\"\\'s\", \" \", text)\n",
    "        text = re.sub(r\"\\'ve\", \" have \", text)\n",
    "        text = re.sub(r\"can't\", \"cannot \", text)\n",
    "        text = re.sub(r\"n't\", \" not \", text)\n",
    "        text = re.sub(r\"I'm\", \"I am\", text)\n",
    "        text = re.sub(r\" m \", \" am \", text)\n",
    "        text = re.sub(r\"\\'re\", \" are \", text)\n",
    "        text = re.sub(r\"\\'d\", \" would \", text)\n",
    "        text = re.sub(r\"\\'ll\", \" will \", text)\n",
    "        text = re.sub(r\"60k\", \" 60000 \", text)\n",
    "        text = re.sub(r\" e g \", \" eg \", text)\n",
    "        text = re.sub(r\" b g \", \" bg \", text)\n",
    "        text = re.sub(r\"\\0s\", \"0\", text)\n",
    "        text = re.sub(r\" 9 11 \", \"911\", text)\n",
    "        text = re.sub(r\"e-mail\", \"email\", text)\n",
    "        text = re.sub(r\"\\s{2,}\", \" \", text)\n",
    "        text = re.sub(r\"quikly\", \"quickly\", text)\n",
    "        text = re.sub(r\" usa \", \" America \", text)\n",
    "        text = re.sub(r\" USA \", \" America \", text)\n",
    "        text = re.sub(r\" u s \", \" America \", text)\n",
    "        text = re.sub(r\" uk \", \" England \", text)\n",
    "        text = re.sub(r\" UK \", \" England \", text)\n",
    "        text = re.sub(r\"india\", \"India\", text)\n",
    "        text = re.sub(r\"switzerland\", \"Switzerland\", text)\n",
    "        text = re.sub(r\"china\", \"China\", text)\n",
    "        text = re.sub(r\"chinese\", \"Chinese\", text)\n",
    "        text = re.sub(r\"imrovement\", \"improvement\", text)\n",
    "        text = re.sub(r\"intially\", \"initially\", text)\n",
    "        text = re.sub(r\"quora\", \"Quora\", text)\n",
    "        text = re.sub(r\" dms \", \"direct messages \", text)\n",
    "        text = re.sub(r\"demonitization\", \"demonetization\", text)\n",
    "        text = re.sub(r\"actived\", \"active\", text)\n",
    "        text = re.sub(r\"kms\", \" kilometers \", text)\n",
    "        text = re.sub(r\"KMs\", \" kilometers \", text)\n",
    "        text = re.sub(r\" cs \", \" computer science \", text)\n",
    "        text = re.sub(r\" upvotes \", \" up votes \", text)\n",
    "        text = re.sub(r\" iPhone \", \" phone \", text)\n",
    "        text = re.sub(r\"\\0rs \", \" rs \", text)\n",
    "        text = re.sub(r\"calender\", \"calendar\", text)\n",
    "        text = re.sub(r\"ios\", \"operating system\", text)\n",
    "        text = re.sub(r\"gps\", \"GPS\", text)\n",
    "        text = re.sub(r\"gst\", \"GST\", text)\n",
    "        text = re.sub(r\"programing\", \"programming\", text)\n",
    "        text = re.sub(r\"bestfriend\", \"best friend\", text)\n",
    "        text = re.sub(r\"dna\", \"DNA\", text)\n",
    "        text = re.sub(r\"III\", \"3\", text)\n",
    "        text = re.sub(r\"the US\", \"America\", text)\n",
    "        text = re.sub(r\"Astrology\", \"astrology\", text)\n",
    "        text = re.sub(r\"Method\", \"method\", text)\n",
    "        text = re.sub(r\"Find\", \"find\", text)\n",
    "        text = re.sub(r\"banglore\", \"Banglore\", text)\n",
    "        text = re.sub(r\" J K \", \" JK \", text)\n",
    "\n",
    "        text = ''.join([c for c in text if c not in punctuation])\n",
    "\n",
    "        if remove_stop_words:\n",
    "            text = text.split()\n",
    "            text = [w for w in text if not w in stop_words]\n",
    "            text = \" \".join(text)\n",
    "\n",
    "        if stem_words:\n",
    "            text = text.split()\n",
    "            stemmer = SnowballStemmer('english')\n",
    "            stemmed_words = [stemmer.stem(word) for word in text]\n",
    "            text = \" \".join(stemmed_words)\n",
    "\n",
    "\n",
    "        return(text)\n",
    "\n",
    "    def process_questions(question_list, questions, question_list_name, dataframe):\n",
    "        for question in questions:\n",
    "            question_list.append(text_to_wordlist(str(question)))\n",
    "            if len(question_list) % 100000 == 0:\n",
    "                progress = len(question_list)/len(dataframe) * 100\n",
    "                print(\"{} is {}% complete.\".format(question_list_name, round(progress, 1)))\n",
    "\n",
    "\n",
    "    train_question1 = []\n",
    "    process_questions(train_question1, train.question1, 'train_question1', train)\n",
    "\n",
    "    train_question2 = []\n",
    "    process_questions(train_question2, train.question2, 'train_question2', train)\n",
    "\n",
    "    train[\"question1\"] = train_question1\n",
    "    train[\"question2\"] = train_question2\n",
    "\n",
    "    return train\n"
   ],
   "metadata": {
    "collapsed": false,
    "pycharm": {
     "name": "#%%\n"
    }
   }
  },
  {
   "cell_type": "code",
   "execution_count": 3,
   "outputs": [],
   "source": [
    "def build_data_set(log):\n",
    "    is_new_log = True if log == NEW_LOG else False\n",
    "    # data_set= DataSet(is_remove_duplicate=is_remove_duplicate)\n",
    "    data_set = list()\n",
    "    df = dict()\n",
    "    df['question1'] = list()\n",
    "    df['question2'] = list()\n",
    "    df['is_duplicated'] = list()\n",
    "    for path in files(log):\n",
    "        dsb = DataSetBuild(path, is_new_log)\n",
    "        res = dsb.json_file_process()\n",
    "        for example in res:\n",
    "            query = example['query']\n",
    "            if query == 'init' or query == 'system requests from direct business' or query == 'wrap do repair':\n",
    "                continue\n",
    "            text_b = example['positive_doc'].replace('\\n', ' ')\n",
    "            df['question1'].append(text_b)\n",
    "            df['question2'].append(text_b)\n",
    "            df['is_duplicated'].append(0)\n",
    "            # df.add(Data('yes', query, text_b))\n",
    "            for n_c in example['negative_docs']:\n",
    "                df['question1'].append(text_b)\n",
    "                df['question2'].append(n_c)\n",
    "                df['is_duplicated'].append(0)\n",
    "                # df.add(Data('no', query, n_c))\n",
    "            data_set.append(pd.DataFrame(df))\n",
    "            df['question1'] = list()\n",
    "            df['question2'] = list()\n",
    "            df['is_duplicated'] = list()\n",
    "    return data_set"
   ],
   "metadata": {
    "collapsed": false,
    "pycharm": {
     "name": "#%%\n"
    }
   }
  },
  {
   "cell_type": "code",
   "execution_count": 4,
   "outputs": [],
   "source": [
    "def translate_single_text_to_english(text):\n",
    "    return chinese_map_english[text]"
   ],
   "metadata": {
    "collapsed": false,
    "pycharm": {
     "name": "#%%\n"
    }
   }
  },
  {
   "cell_type": "code",
   "execution_count": 5,
   "outputs": [
    {
     "data": {
      "text/plain": "  question1              question2  is_duplicated\n0      立即支付                   立即支付              0\n1      立即支付              当前所在页面,支付              0\n2      立即支付                     返回              0\n3      立即支付                     支付              0\n4      立即支付                   body              0\n5      立即支付                  ￥0.05              0\n6      立即支付                    收款方              0\n7      立即支付            UAT普通直连测试商户              0\n8      立即支付  支付安全由中国人民财产保险股份有限公司承保              0",
      "text/html": "<div>\n<style scoped>\n    .dataframe tbody tr th:only-of-type {\n        vertical-align: middle;\n    }\n\n    .dataframe tbody tr th {\n        vertical-align: top;\n    }\n\n    .dataframe thead th {\n        text-align: right;\n    }\n</style>\n<table border=\"1\" class=\"dataframe\">\n  <thead>\n    <tr style=\"text-align: right;\">\n      <th></th>\n      <th>question1</th>\n      <th>question2</th>\n      <th>is_duplicated</th>\n    </tr>\n  </thead>\n  <tbody>\n    <tr>\n      <th>0</th>\n      <td>立即支付</td>\n      <td>立即支付</td>\n      <td>0</td>\n    </tr>\n    <tr>\n      <th>1</th>\n      <td>立即支付</td>\n      <td>当前所在页面,支付</td>\n      <td>0</td>\n    </tr>\n    <tr>\n      <th>2</th>\n      <td>立即支付</td>\n      <td>返回</td>\n      <td>0</td>\n    </tr>\n    <tr>\n      <th>3</th>\n      <td>立即支付</td>\n      <td>支付</td>\n      <td>0</td>\n    </tr>\n    <tr>\n      <th>4</th>\n      <td>立即支付</td>\n      <td>body</td>\n      <td>0</td>\n    </tr>\n    <tr>\n      <th>5</th>\n      <td>立即支付</td>\n      <td>￥0.05</td>\n      <td>0</td>\n    </tr>\n    <tr>\n      <th>6</th>\n      <td>立即支付</td>\n      <td>收款方</td>\n      <td>0</td>\n    </tr>\n    <tr>\n      <th>7</th>\n      <td>立即支付</td>\n      <td>UAT普通直连测试商户</td>\n      <td>0</td>\n    </tr>\n    <tr>\n      <th>8</th>\n      <td>立即支付</td>\n      <td>支付安全由中国人民财产保险股份有限公司承保</td>\n      <td>0</td>\n    </tr>\n  </tbody>\n</table>\n</div>"
     },
     "execution_count": 5,
     "metadata": {},
     "output_type": "execute_result"
    }
   ],
   "source": [
    "new_data = build_data_set(NEW_LOG)\n",
    "new_data[0]"
   ],
   "metadata": {
    "collapsed": false,
    "pycharm": {
     "name": "#%%\n"
    }
   }
  },
  {
   "cell_type": "code",
   "execution_count": 6,
   "outputs": [
    {
     "data": {
      "text/plain": "  question1                                          question2  is_duplicated\n0      立即支付                                    pay immediately              0\n1      立即支付                                  Current page, pay              0\n2      立即支付                                             return              0\n3      立即支付                                             To pay              0\n4      立即支付                                               body              0\n5      立即支付                                              ￥0.05              0\n6      立即支付                                        Beneficiary              0\n7      立即支付       UAT ordinary direct connection test merchant              0\n8      立即支付  Payment security is underwritten by the People...              0",
      "text/html": "<div>\n<style scoped>\n    .dataframe tbody tr th:only-of-type {\n        vertical-align: middle;\n    }\n\n    .dataframe tbody tr th {\n        vertical-align: top;\n    }\n\n    .dataframe thead th {\n        text-align: right;\n    }\n</style>\n<table border=\"1\" class=\"dataframe\">\n  <thead>\n    <tr style=\"text-align: right;\">\n      <th></th>\n      <th>question1</th>\n      <th>question2</th>\n      <th>is_duplicated</th>\n    </tr>\n  </thead>\n  <tbody>\n    <tr>\n      <th>0</th>\n      <td>立即支付</td>\n      <td>pay immediately</td>\n      <td>0</td>\n    </tr>\n    <tr>\n      <th>1</th>\n      <td>立即支付</td>\n      <td>Current page, pay</td>\n      <td>0</td>\n    </tr>\n    <tr>\n      <th>2</th>\n      <td>立即支付</td>\n      <td>return</td>\n      <td>0</td>\n    </tr>\n    <tr>\n      <th>3</th>\n      <td>立即支付</td>\n      <td>To pay</td>\n      <td>0</td>\n    </tr>\n    <tr>\n      <th>4</th>\n      <td>立即支付</td>\n      <td>body</td>\n      <td>0</td>\n    </tr>\n    <tr>\n      <th>5</th>\n      <td>立即支付</td>\n      <td>￥0.05</td>\n      <td>0</td>\n    </tr>\n    <tr>\n      <th>6</th>\n      <td>立即支付</td>\n      <td>Beneficiary</td>\n      <td>0</td>\n    </tr>\n    <tr>\n      <th>7</th>\n      <td>立即支付</td>\n      <td>UAT ordinary direct connection test merchant</td>\n      <td>0</td>\n    </tr>\n    <tr>\n      <th>8</th>\n      <td>立即支付</td>\n      <td>Payment security is underwritten by the People...</td>\n      <td>0</td>\n    </tr>\n  </tbody>\n</table>\n</div>"
     },
     "execution_count": 6,
     "metadata": {},
     "output_type": "execute_result"
    }
   ],
   "source": [
    "for i in new_data:\n",
    "    i['question2'] = i['question2'].apply(translate_single_text_to_english)\n",
    "new_data[0]"
   ],
   "metadata": {
    "collapsed": false,
    "pycharm": {
     "name": "#%%\n"
    }
   }
  },
  {
   "cell_type": "code",
   "execution_count": 11,
   "outputs": [
    {
     "data": {
      "text/plain": "         question1                                          question2  \\\n0  pay immediately                                    pay immediately   \n1  pay immediately                                  Current page, pay   \n2  pay immediately                                             return   \n3  pay immediately                                             To pay   \n4  pay immediately                                               body   \n5  pay immediately                                              ￥0.05   \n6  pay immediately                                        Beneficiary   \n7  pay immediately       UAT ordinary direct connection test merchant   \n8  pay immediately  Payment security is underwritten by the People...   \n\n   is_duplicated  \n0              0  \n1              0  \n2              0  \n3              0  \n4              0  \n5              0  \n6              0  \n7              0  \n8              0  ",
      "text/html": "<div>\n<style scoped>\n    .dataframe tbody tr th:only-of-type {\n        vertical-align: middle;\n    }\n\n    .dataframe tbody tr th {\n        vertical-align: top;\n    }\n\n    .dataframe thead th {\n        text-align: right;\n    }\n</style>\n<table border=\"1\" class=\"dataframe\">\n  <thead>\n    <tr style=\"text-align: right;\">\n      <th></th>\n      <th>question1</th>\n      <th>question2</th>\n      <th>is_duplicated</th>\n    </tr>\n  </thead>\n  <tbody>\n    <tr>\n      <th>0</th>\n      <td>pay immediately</td>\n      <td>pay immediately</td>\n      <td>0</td>\n    </tr>\n    <tr>\n      <th>1</th>\n      <td>pay immediately</td>\n      <td>Current page, pay</td>\n      <td>0</td>\n    </tr>\n    <tr>\n      <th>2</th>\n      <td>pay immediately</td>\n      <td>return</td>\n      <td>0</td>\n    </tr>\n    <tr>\n      <th>3</th>\n      <td>pay immediately</td>\n      <td>To pay</td>\n      <td>0</td>\n    </tr>\n    <tr>\n      <th>4</th>\n      <td>pay immediately</td>\n      <td>body</td>\n      <td>0</td>\n    </tr>\n    <tr>\n      <th>5</th>\n      <td>pay immediately</td>\n      <td>￥0.05</td>\n      <td>0</td>\n    </tr>\n    <tr>\n      <th>6</th>\n      <td>pay immediately</td>\n      <td>Beneficiary</td>\n      <td>0</td>\n    </tr>\n    <tr>\n      <th>7</th>\n      <td>pay immediately</td>\n      <td>UAT ordinary direct connection test merchant</td>\n      <td>0</td>\n    </tr>\n    <tr>\n      <th>8</th>\n      <td>pay immediately</td>\n      <td>Payment security is underwritten by the People...</td>\n      <td>0</td>\n    </tr>\n  </tbody>\n</table>\n</div>"
     },
     "execution_count": 11,
     "metadata": {},
     "output_type": "execute_result"
    }
   ],
   "source": [
    "for i in new_data:\n",
    "    t  =  translate_single_text_to_english(i['question1'][0])\n",
    "    i['question1'] = t\n",
    "new_data[0]"
   ],
   "metadata": {
    "collapsed": false,
    "pycharm": {
     "name": "#%%\n"
    }
   }
  },
  {
   "cell_type": "code",
   "execution_count": 12,
   "outputs": [
    {
     "data": {
      "text/plain": "   question1                                          question2  is_duplicated\n0     Resend                                             Resend              0\n1     Resend                                  Current page, pay              0\n2     Resend                                             return              0\n3     Resend                         Verify mobile phone number              0\n4     Resend  SMS verification is required for this transaction              0\n5     Resend                                       phone number              0\n6     Resend                                        148******11              0\n7     Resend                                  Verification code              0\n8     Resend                      Fill in the verification code              0\n9     Resend                         Verify other phone numbers              0\n10    Resend                                          Next step              0\n11    Resend                                             return              0\n12    Resend                                             To pay              0\n13    Resend                                               body              0\n14    Resend                                              ￥0.05              0\n15    Resend                                        Beneficiary              0\n16    Resend       UAT ordinary direct connection test merchant              0\n17    Resend                                    pay immediately              0",
      "text/html": "<div>\n<style scoped>\n    .dataframe tbody tr th:only-of-type {\n        vertical-align: middle;\n    }\n\n    .dataframe tbody tr th {\n        vertical-align: top;\n    }\n\n    .dataframe thead th {\n        text-align: right;\n    }\n</style>\n<table border=\"1\" class=\"dataframe\">\n  <thead>\n    <tr style=\"text-align: right;\">\n      <th></th>\n      <th>question1</th>\n      <th>question2</th>\n      <th>is_duplicated</th>\n    </tr>\n  </thead>\n  <tbody>\n    <tr>\n      <th>0</th>\n      <td>Resend</td>\n      <td>Resend</td>\n      <td>0</td>\n    </tr>\n    <tr>\n      <th>1</th>\n      <td>Resend</td>\n      <td>Current page, pay</td>\n      <td>0</td>\n    </tr>\n    <tr>\n      <th>2</th>\n      <td>Resend</td>\n      <td>return</td>\n      <td>0</td>\n    </tr>\n    <tr>\n      <th>3</th>\n      <td>Resend</td>\n      <td>Verify mobile phone number</td>\n      <td>0</td>\n    </tr>\n    <tr>\n      <th>4</th>\n      <td>Resend</td>\n      <td>SMS verification is required for this transaction</td>\n      <td>0</td>\n    </tr>\n    <tr>\n      <th>5</th>\n      <td>Resend</td>\n      <td>phone number</td>\n      <td>0</td>\n    </tr>\n    <tr>\n      <th>6</th>\n      <td>Resend</td>\n      <td>148******11</td>\n      <td>0</td>\n    </tr>\n    <tr>\n      <th>7</th>\n      <td>Resend</td>\n      <td>Verification code</td>\n      <td>0</td>\n    </tr>\n    <tr>\n      <th>8</th>\n      <td>Resend</td>\n      <td>Fill in the verification code</td>\n      <td>0</td>\n    </tr>\n    <tr>\n      <th>9</th>\n      <td>Resend</td>\n      <td>Verify other phone numbers</td>\n      <td>0</td>\n    </tr>\n    <tr>\n      <th>10</th>\n      <td>Resend</td>\n      <td>Next step</td>\n      <td>0</td>\n    </tr>\n    <tr>\n      <th>11</th>\n      <td>Resend</td>\n      <td>return</td>\n      <td>0</td>\n    </tr>\n    <tr>\n      <th>12</th>\n      <td>Resend</td>\n      <td>To pay</td>\n      <td>0</td>\n    </tr>\n    <tr>\n      <th>13</th>\n      <td>Resend</td>\n      <td>body</td>\n      <td>0</td>\n    </tr>\n    <tr>\n      <th>14</th>\n      <td>Resend</td>\n      <td>￥0.05</td>\n      <td>0</td>\n    </tr>\n    <tr>\n      <th>15</th>\n      <td>Resend</td>\n      <td>Beneficiary</td>\n      <td>0</td>\n    </tr>\n    <tr>\n      <th>16</th>\n      <td>Resend</td>\n      <td>UAT ordinary direct connection test merchant</td>\n      <td>0</td>\n    </tr>\n    <tr>\n      <th>17</th>\n      <td>Resend</td>\n      <td>pay immediately</td>\n      <td>0</td>\n    </tr>\n  </tbody>\n</table>\n</div>"
     },
     "execution_count": 12,
     "metadata": {},
     "output_type": "execute_result"
    }
   ],
   "source": [
    "new_data[1]"
   ],
   "metadata": {
    "collapsed": false,
    "pycharm": {
     "name": "#%%\n"
    }
   }
  },
  {
   "cell_type": "code",
   "execution_count": 16,
   "outputs": [],
   "source": [
    "for i in range(len(new_data)):\n",
    "    new_data[i].to_csv('data/similarity_comparision/temp'+str(i)+'.csv', index_label=False)"
   ],
   "metadata": {
    "collapsed": false,
    "pycharm": {
     "name": "#%%\n"
    }
   }
  },
  {
   "cell_type": "code",
   "execution_count": 17,
   "outputs": [
    {
     "data": {
      "text/plain": "   question1                                          question2  is_duplicated\n0     Resend                                             Resend              0\n1     Resend                                  Current page, pay              0\n2     Resend                                             return              0\n3     Resend                         Verify mobile phone number              0\n4     Resend  SMS verification is required for this transaction              0\n5     Resend                                       phone number              0\n6     Resend                                        148******11              0\n7     Resend                                  Verification code              0\n8     Resend                      Fill in the verification code              0\n9     Resend                         Verify other phone numbers              0\n10    Resend                                          Next step              0\n11    Resend                                             return              0\n12    Resend                                             To pay              0\n13    Resend                                               body              0\n14    Resend                                              ￥0.05              0\n15    Resend                                        Beneficiary              0\n16    Resend       UAT ordinary direct connection test merchant              0\n17    Resend                                    pay immediately              0",
      "text/html": "<div>\n<style scoped>\n    .dataframe tbody tr th:only-of-type {\n        vertical-align: middle;\n    }\n\n    .dataframe tbody tr th {\n        vertical-align: top;\n    }\n\n    .dataframe thead th {\n        text-align: right;\n    }\n</style>\n<table border=\"1\" class=\"dataframe\">\n  <thead>\n    <tr style=\"text-align: right;\">\n      <th></th>\n      <th>question1</th>\n      <th>question2</th>\n      <th>is_duplicated</th>\n    </tr>\n  </thead>\n  <tbody>\n    <tr>\n      <th>0</th>\n      <td>Resend</td>\n      <td>Resend</td>\n      <td>0</td>\n    </tr>\n    <tr>\n      <th>1</th>\n      <td>Resend</td>\n      <td>Current page, pay</td>\n      <td>0</td>\n    </tr>\n    <tr>\n      <th>2</th>\n      <td>Resend</td>\n      <td>return</td>\n      <td>0</td>\n    </tr>\n    <tr>\n      <th>3</th>\n      <td>Resend</td>\n      <td>Verify mobile phone number</td>\n      <td>0</td>\n    </tr>\n    <tr>\n      <th>4</th>\n      <td>Resend</td>\n      <td>SMS verification is required for this transaction</td>\n      <td>0</td>\n    </tr>\n    <tr>\n      <th>5</th>\n      <td>Resend</td>\n      <td>phone number</td>\n      <td>0</td>\n    </tr>\n    <tr>\n      <th>6</th>\n      <td>Resend</td>\n      <td>148******11</td>\n      <td>0</td>\n    </tr>\n    <tr>\n      <th>7</th>\n      <td>Resend</td>\n      <td>Verification code</td>\n      <td>0</td>\n    </tr>\n    <tr>\n      <th>8</th>\n      <td>Resend</td>\n      <td>Fill in the verification code</td>\n      <td>0</td>\n    </tr>\n    <tr>\n      <th>9</th>\n      <td>Resend</td>\n      <td>Verify other phone numbers</td>\n      <td>0</td>\n    </tr>\n    <tr>\n      <th>10</th>\n      <td>Resend</td>\n      <td>Next step</td>\n      <td>0</td>\n    </tr>\n    <tr>\n      <th>11</th>\n      <td>Resend</td>\n      <td>return</td>\n      <td>0</td>\n    </tr>\n    <tr>\n      <th>12</th>\n      <td>Resend</td>\n      <td>To pay</td>\n      <td>0</td>\n    </tr>\n    <tr>\n      <th>13</th>\n      <td>Resend</td>\n      <td>body</td>\n      <td>0</td>\n    </tr>\n    <tr>\n      <th>14</th>\n      <td>Resend</td>\n      <td>￥0.05</td>\n      <td>0</td>\n    </tr>\n    <tr>\n      <th>15</th>\n      <td>Resend</td>\n      <td>Beneficiary</td>\n      <td>0</td>\n    </tr>\n    <tr>\n      <th>16</th>\n      <td>Resend</td>\n      <td>UAT ordinary direct connection test merchant</td>\n      <td>0</td>\n    </tr>\n    <tr>\n      <th>17</th>\n      <td>Resend</td>\n      <td>pay immediately</td>\n      <td>0</td>\n    </tr>\n  </tbody>\n</table>\n</div>"
     },
     "execution_count": 17,
     "metadata": {},
     "output_type": "execute_result"
    }
   ],
   "source": [
    "df = pd.read_csv('data/similarity_comparision/temp1.csv')\n",
    "df"
   ],
   "metadata": {
    "collapsed": false,
    "pycharm": {
     "name": "#%%\n"
    }
   }
  }
 ],
 "metadata": {
  "kernelspec": {
   "display_name": "Python 3",
   "language": "python",
   "name": "python3"
  },
  "language_info": {
   "codemirror_mode": {
    "name": "ipython",
    "version": 2
   },
   "file_extension": ".py",
   "mimetype": "text/x-python",
   "name": "python",
   "nbconvert_exporter": "python",
   "pygments_lexer": "ipython2",
   "version": "2.7.6"
  }
 },
 "nbformat": 4,
 "nbformat_minor": 0
}