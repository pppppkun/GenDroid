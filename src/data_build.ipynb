{
 "cells": [
  {
   "cell_type": "code",
   "execution_count": 1,
   "metadata": {},
   "outputs": [],
   "source": [
    "from json_processor import build_data_set\n",
    "from constant import NEW_LOG, OLD_LOG\n",
    "import pandas as pd\n",
    "import numpy as np\n",
    "import os\n",
    "os.chdir('/Users/pkun/PycharmProjects/ui_api_automated_test')"
   ]
  },
  {
   "cell_type": "code",
   "execution_count": 2,
   "metadata": {},
   "outputs": [],
   "source": [
    "new_log_data_set = build_data_set(NEW_LOG)\n",
    "old_log_data_set = build_data_set(OLD_LOG)\n",
    "data_set = new_log_data_set.union(old_log_data_set)"
   ]
  },
  {
   "cell_type": "code",
   "execution_count": 8,
   "metadata": {},
   "outputs": [
    {
     "name": "stdout",
     "output_type": "stream",
     "text": [
      "8052\n",
      "441\n",
      "7611\n"
     ]
    },
    {
     "data": {
      "text/plain": [
       "array([<Data no\tenter the payment password again and submit the payment password and verify that the payment password is legal\t名>,\n",
       "       <Data no\tsubmit payment password authorization payment authorization and need wechat user verification short\t返回>,\n",
       "       <Data no\tfill in the cardholder information of overseas bank card to check the validity\t请绑定持卡人本人的银行卡>,\n",
       "       ...,\n",
       "       <Data no\tadd your bank card to submit your bank card number\t字母X>,\n",
       "       <Data no\tuser select payment method to add new bank card\t平安银行储蓄卡(4144)>,\n",
       "       <Data no\tverify text messages verify other phone numbers\t148******15>],\n",
       "      dtype=object)"
      ]
     },
     "execution_count": 8,
     "metadata": {},
     "output_type": "execute_result"
    }
   ],
   "source": [
    "print(len(data_set))\n",
    "YES = 0\n",
    "NO = 0 \n",
    "for i in data_set:\n",
    "    if i.label == 'yes':\n",
    "        YES+=1\n",
    "    else:\n",
    "        NO+=1\n",
    "print(YES)\n",
    "print(NO)\n",
    "data_set = np.array(list(data_set))\n",
    "data_set"
   ]
  },
  {
   "cell_type": "code",
   "execution_count": 14,
   "metadata": {},
   "outputs": [],
   "source": [
    "train_indices = np.random.choice(8052, int(8052*0.8), replace=False)\n",
    "test_indices = np.delete(np.arange(8052), train_indices)\n",
    "train_data = data_set[train_indices]\n",
    "test_data = data_set[test_indices] "
   ]
  },
  {
   "cell_type": "code",
   "execution_count": 15,
   "metadata": {},
   "outputs": [
    {
     "data": {
      "text/plain": [
       "array([<Data no\tdo login\trdgztest_ZGZHOE>,\n",
       "       <Data no\tconfirm the mobile phone number switch to other verification mobile phone number\t请选择验短手机号>,\n",
       "       <Data no\tverify sms submission sms verification code\t6226 0901 4500 0002>,\n",
       "       ...,\n",
       "       <Data no\tuser confirm the result of tying the card is successful and the bank card added by wechat users can be used for this transaction\t451323198501022630>,\n",
       "       <Data yes\tverify text cancel verify text\t返回>,\n",
       "       <Data no\tconfirm payment information to confirm payment and require wechat user to submit payment password authorization\t零钱>],\n",
       "      dtype=object)"
      ]
     },
     "execution_count": 15,
     "metadata": {},
     "output_type": "execute_result"
    }
   ],
   "source": [
    "train_data"
   ]
  },
  {
   "cell_type": "code",
   "execution_count": 16,
   "metadata": {},
   "outputs": [
    {
     "data": {
      "text/plain": [
       "array([<Data no\tset payment password cancel setting payment password\t重新绑定银行卡找回>,\n",
       "       <Data no\tsubmit your bank card and identity information cancel your bank card and identity information\t招商银行信用卡(4670)预留手机号，>,\n",
       "       <Data no\tverify text cancel verify text\t手机号>, ...,\n",
       "       <Data no\tverify sms resending verification code and the verification request is illegal\t验证手机号>,\n",
       "       <Data no\tuser select payment method to add a new bank card and the number of wechat users tied card has reached the upper limit\t招商银行储蓄卡(8130)>,\n",
       "       <Data no\tadd the bank card to submit the bank card information and the bank card submitted by wechat users is an overseas bank card\t4539 3393 4000 03>],\n",
       "      dtype=object)"
      ]
     },
     "execution_count": 16,
     "metadata": {},
     "output_type": "execute_result"
    }
   ],
   "source": [
    "test_data"
   ]
  }
 ],
 "metadata": {
  "interpreter": {
   "hash": "9c26b9216647551b6ac5aa8c51974e9016360b3877785ab6f10d8fec526fedea"
  },
  "kernelspec": {
   "display_name": "Python 3.7.11 64-bit ('uat': conda)",
   "language": "python",
   "name": "python3"
  },
  "language_info": {
   "codemirror_mode": {
    "name": "ipython",
    "version": 3
   },
   "file_extension": ".py",
   "mimetype": "text/x-python",
   "name": "python",
   "nbconvert_exporter": "python",
   "pygments_lexer": "ipython3",
   "version": "3.7.11"
  },
  "orig_nbformat": 4
 },
 "nbformat": 4,
 "nbformat_minor": 2
}
