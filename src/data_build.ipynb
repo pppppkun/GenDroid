{
 "cells": [
  {
   "cell_type": "code",
   "execution_count": 4,
   "metadata": {},
   "outputs": [],
   "source": [
    "from json_processor import build_data_set\n",
    "from constant import NEW_LOG, OLD_LOG\n",
    "import pandas as pd\n",
    "import numpy as np\n",
    "import os\n",
    "import copy\n",
    "from googletrans import Translator\n",
    "os.environ[\"GOOGLE_APPLICATION_CREDENTIALS\"]=\"/Users/pkun/.ssh/payuat-985b0c12a3d4.json\"\n",
    "os.chdir('/Users/pkun/PycharmProjects/ui_api_automated_test')"
   ]
  },
  {
   "cell_type": "code",
   "execution_count": 6,
   "metadata": {},
   "outputs": [],
   "source": [
    "def tran_text_to_english(data_set):\n",
    "    import six\n",
    "    from google.cloud import translate_v2 as translate\n",
    "\n",
    "    translate_client = translate.Client()\n",
    "\n",
    "    # Text can also be a sequence of strings, in which case this method\n",
    "    # will return a sequence of results for each text.\n",
    "    count = 0\n",
    "    for data in data_set:\n",
    "        data.text_b = translate_client.translate(\n",
    "            data.text_b, target_language='en')['translatedText']\n",
    "        count += 1\n",
    "        if count % 200 == 0:\n",
    "            print(count)\n"
   ]
  },
  {
   "cell_type": "code",
   "execution_count": null,
   "metadata": {},
   "outputs": [],
   "source": [
    "# train_indices = np.random.choice(8052, int(8052*0.8), replace=False)\n",
    "# test_indices = np.delete(np.arange(8052), train_indices)\n",
    "# train_data = copy_data_set[train_indices]\n",
    "# test_data = copy_data_set[test_indices] "
   ]
  },
  {
   "cell_type": "code",
   "execution_count": 7,
   "metadata": {},
   "outputs": [],
   "source": [
    "def from_data_to_tsv(data_set, file):\n",
    "    f = open(file, 'w')\n",
    "    for i in data_set:\n",
    "        f.write(i.to_text()+'\\n')\n",
    "    f.close()"
   ]
  }
 ],
 "metadata": {
  "interpreter": {
   "hash": "9c26b9216647551b6ac5aa8c51974e9016360b3877785ab6f10d8fec526fedea"
  },
  "kernelspec": {
   "display_name": "Python 3.7.11 64-bit ('uat': conda)",
   "language": "python",
   "name": "python3"
  },
  "language_info": {
   "codemirror_mode": {
    "name": "ipython",
    "version": 3
   },
   "file_extension": ".py",
   "mimetype": "text/x-python",
   "name": "python",
   "nbconvert_exporter": "python",
   "pygments_lexer": "ipython3",
   "version": "3.7.11"
  },
  "orig_nbformat": 4
 },
 "nbformat": 4,
 "nbformat_minor": 2
}
