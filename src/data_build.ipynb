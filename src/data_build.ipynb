{
 "cells": [
  {
   "cell_type": "code",
   "execution_count": 4,
   "metadata": {},
   "outputs": [],
   "source": [
    "from json_processor import build_data_set\n",
    "from constant import NEW_LOG, OLD_LOG\n",
    "import pandas as pd\n",
    "import numpy as np\n",
    "import os\n",
    "import copy\n",
    "from googletrans import Translator\n",
    "os.environ[\"GOOGLE_APPLICATION_CREDENTIALS\"]=\"/Users/pkun/.ssh/payuat-985b0c12a3d4.json\"\n",
    "os.chdir('/Users/pkun/PycharmProjects/ui_api_automated_test')"
   ]
  },
  {
   "cell_type": "code",
   "execution_count": 5,
   "metadata": {},
   "outputs": [],
   "source": [
    "new_log_data_set = build_data_set(NEW_LOG)\n",
    "old_log_data_set = build_data_set(OLD_LOG)\n",
    "data_set = new_log_data_set.union(old_log_data_set)"
   ]
  },
  {
   "cell_type": "code",
   "execution_count": null,
   "metadata": {},
   "outputs": [],
   "source": [
    "print(len(data_set))\n",
    "YES = 0\n",
    "NO = 0 \n",
    "for i in data_set:\n",
    "    if i.label == 'yes':\n",
    "        YES+=1\n",
    "    else:\n",
    "        NO+=1\n",
    "print(YES)\n",
    "print(NO)\n",
    "data_set = np.array(list(data_set))\n",
    "data_set"
   ]
  },
  {
   "cell_type": "code",
   "execution_count": 6,
   "metadata": {},
   "outputs": [],
   "source": [
    "def tran_text_to_english(data_set):\n",
    "    import six\n",
    "    from google.cloud import translate_v2 as translate\n",
    "\n",
    "    translate_client = translate.Client()\n",
    "\n",
    "    # Text can also be a sequence of strings, in which case this method\n",
    "    # will return a sequence of results for each text.\n",
    "    count = 0\n",
    "    for data in data_set:\n",
    "        data.text_b = translate_client.translate(\n",
    "            data.text_b, target_language='en')['translatedText']\n",
    "        count += 1\n",
    "        if count % 200 == 0:\n",
    "            print(count)\n"
   ]
  },
  {
   "cell_type": "code",
   "execution_count": null,
   "metadata": {},
   "outputs": [],
   "source": [
    "copy_data_set = copy.deepcopy(data_set) "
   ]
  },
  {
   "cell_type": "code",
   "execution_count": null,
   "metadata": {},
   "outputs": [],
   "source": [
    "tran_text_to_english(copy_data_set)\n",
    "copy_data_set"
   ]
  },
  {
   "cell_type": "code",
   "execution_count": null,
   "metadata": {},
   "outputs": [],
   "source": [
    "train_indices = np.random.choice(8052, int(8052*0.8), replace=False)\n",
    "test_indices = np.delete(np.arange(8052), train_indices)\n",
    "train_data = copy_data_set[train_indices]\n",
    "test_data = copy_data_set[test_indices] "
   ]
  },
  {
   "cell_type": "code",
   "execution_count": null,
   "metadata": {},
   "outputs": [],
   "source": [
    "train_data"
   ]
  },
  {
   "cell_type": "code",
   "execution_count": null,
   "metadata": {},
   "outputs": [],
   "source": [
    "test_data"
   ]
  },
  {
   "cell_type": "code",
   "execution_count": 7,
   "metadata": {},
   "outputs": [],
   "source": [
    "def from_data_to_tsv(data_set, file):\n",
    "    f = open(file, 'w')\n",
    "    for i in data_set:\n",
    "        f.write(i.to_text()+'\\n')\n",
    "    f.close()"
   ]
  },
  {
   "cell_type": "code",
   "execution_count": null,
   "metadata": {},
   "outputs": [],
   "source": [
    "from_data_to_tsv(train_data, 'data/input1.tsv')\n",
    "from_data_to_tsv(test_data, 'data/output1.tsv')"
   ]
  },
  {
   "cell_type": "code",
   "execution_count": null,
   "metadata": {},
   "outputs": [],
   "source": [
    "train_data = open('data/data_set/origin_input.tsv', 'r')\n",
    "train_data = train_data.read().split('\\n')\n",
    "print(len(train_data))"
   ]
  },
  {
   "cell_type": "code",
   "execution_count": 8,
   "metadata": {},
   "outputs": [
    {
     "name": "stdout",
     "output_type": "stream",
     "text": [
      "200\n",
      "400\n",
      "600\n",
      "800\n",
      "1000\n",
      "1200\n",
      "1400\n",
      "1600\n",
      "1800\n",
      "2000\n",
      "2200\n",
      "2400\n",
      "2600\n",
      "2800\n",
      "3000\n",
      "3200\n",
      "3400\n",
      "3600\n",
      "3800\n",
      "4000\n",
      "4200\n",
      "4400\n",
      "4600\n",
      "4800\n",
      "5000\n",
      "5200\n",
      "5400\n",
      "5600\n",
      "5800\n",
      "6000\n",
      "6200\n",
      "6400\n",
      "6600\n",
      "6800\n",
      "7000\n",
      "7200\n",
      "7400\n",
      "7600\n",
      "7800\n",
      "200\n",
      "400\n",
      "600\n",
      "800\n"
     ]
    }
   ],
   "source": [
    "copy_train_set = copy.deepcopy(new_log_data_set)\n",
    "copy_test_set = copy.deepcopy(old_log_data_set)\n",
    "copy_train_set = np.array(list(copy_train_set))\n",
    "copy_test_set = np.array(list(copy_test_set))\n",
    "tran_text_to_english(copy_train_set)\n",
    "tran_text_to_english(copy_test_set)\n",
    "from_data_to_tsv(copy_train_set, 'data/data_set/version_input.tsv')\n",
    "from_data_to_tsv(copy_test_set, 'data/data_set/version_output.tsv')"
   ]
  }
 ],
 "metadata": {
  "interpreter": {
   "hash": "9c26b9216647551b6ac5aa8c51974e9016360b3877785ab6f10d8fec526fedea"
  },
  "kernelspec": {
   "display_name": "Python 3.7.11 64-bit ('uat': conda)",
   "language": "python",
   "name": "python3"
  },
  "language_info": {
   "codemirror_mode": {
    "name": "ipython",
    "version": 3
   },
   "file_extension": ".py",
   "mimetype": "text/x-python",
   "name": "python",
   "nbconvert_exporter": "python",
   "pygments_lexer": "ipython3",
   "version": "3.7.11"
  },
  "orig_nbformat": 4
 },
 "nbformat": 4,
 "nbformat_minor": 2
}
