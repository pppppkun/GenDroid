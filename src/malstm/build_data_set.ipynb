{
 "cells": [
  {
   "cell_type": "code",
   "execution_count": 87,
   "metadata": {
    "collapsed": true
   },
   "outputs": [],
   "source": [
    "import pandas as pd\n",
    "import numpy as np\n",
    "import os\n",
    "os.chdir('/Users/pkun/PycharmProjects/ui_api_automated_test')"
   ]
  },
  {
   "cell_type": "code",
   "execution_count": 88,
   "outputs": [],
   "source": [
    "d = list()\n",
    "for path, __, files_ in os.walk('data/new_test_result/'):\n",
    "  for file in files_:\n",
    "    path_ = os.path.join(path, file)\n",
    "    data_set = pd.read_csv(path_)\n",
    "    data_set.dropna(inplace=True)\n",
    "    d.append(data_set)"
   ],
   "metadata": {
    "collapsed": false,
    "pycharm": {
     "name": "#%%\n"
    }
   }
  },
  {
   "cell_type": "code",
   "execution_count": 89,
   "outputs": [
    {
     "data": {
      "text/plain": "                                          question1  \\\n0   add your bank card submit your bank card number   \n1                                         Next step   \n2                                         Next step   \n3                                         Next step   \n4                                         Next step   \n5                                         Next step   \n6                                         Next step   \n7                                         Next step   \n8                                         Next step   \n9                                         Next step   \n10                                        Next step   \n11                                        Next step   \n12                                        Next step   \n13                                        Next step   \n14                                        Next step   \n15                                        Next step   \n16                                        Next step   \n17                                        Next step   \n18                                        Next step   \n19                                        Next step   \n20                                        Next step   \n21                                        Next step   \n22                                        Next step   \n23                                        Next step   \n24                                        Next step   \n25                                        Next step   \n26                                        Next step   \n27                                        Next step   \n28                                        Next step   \n29                                        Next step   \n30                                        Next step   \n31                                        Next step   \n32                                        Next step   \n33                                        Next step   \n34                                        Next step   \n35                                        Next step   \n36                                        Next step   \n37                                        Next step   \n38                                        Next step   \n39                                        Next step   \n40                                        Next step   \n41                                        Next step   \n42                                        Next step   \n43                                        Next step   \n44                                        Next step   \n45                                        Next step   \n46                                        Next step   \n47                                        Next step   \n48                                        Next step   \n49                                        Next step   \n50                                        Next step   \n51                                        Next step   \n52                                        Next step   \n53                                        Next step   \n54                                        Next step   \n\n                                            question2  is_duplicated  \n0                                           Next step       0.119670  \n1                                           Next step       1.000000  \n2                          Current page add bank card       0.091363  \n3                                              To pay       0.052867  \n4                                              return       0.138239  \n5                                                body       0.037567  \n6                                                0 05       0.160875  \n7                                         Beneficiary       0.041332  \n8        UAT ordinary direct connection test merchant       0.074186  \n9                                     pay immediately       0.033657  \n10  Payment security underwritten by People s Insu...       0.061845  \n11                                             return       0.138239  \n12                         Verify mobile phone number       0.115151  \n13              SMS verification required transaction       0.070491  \n14                                       phone number       0.087893  \n15                                             148 57       0.079587  \n16                                  Verification code       0.014175  \n17                          Fill in verification code       0.041351  \n18                                            Sent 38       0.192404  \n19                         Verify other phone numbers       0.190239  \n20            Please select short mobile phone number       0.115635  \n21                                             return       0.138239  \n22  Choose bank card use mobile phone number reser...       0.036622  \n23                                             148 57       0.079587  \n24  Ping An Bank savings card 3825 reserved mobile...       0.070028  \n25                                              renew       0.072160  \n26                                             148 12       0.102356  \n27  Ping An Bank Credit Card 5363 reserved mobile ...       0.105646  \n28                                              renew       0.072160  \n29        Add mobile phone number by binding new card       0.037859  \n30               Contact customer service solve 95017       0.093503  \n31                                      Add bank card       0.127955  \n32                                             return       0.138239  \n33  Add new bank card use bank card s reserved mob...       0.042576  \n34                                         cardholder       0.032384  \n35                                            paytest       0.165580  \n36                                        card number       0.082401  \n37                                4392 2611 1111 1111       0.123486  \n38                                     Scan bank card       0.073689  \n39                                          Next step       1.000000  \n40                         service provided by Tenpay       0.040702  \n41                                  Put away keyboard       0.026039  \n42                                                  1       0.047814  \n43                                                  2       0.037152  \n44                                                  3       0.081191  \n45                                                  4       0.070411  \n46                                                  5       0.068107  \n47                                                  6       0.024976  \n48                                                  7       0.077478  \n49                                                  8       0.067284  \n50                                                  9       0.080291  \n51                                       The letter X       0.137620  \n52                                                  0       0.075220  \n53                                             delete       0.164264  \n54                                             delete       0.164264  ",
      "text/html": "<div>\n<style scoped>\n    .dataframe tbody tr th:only-of-type {\n        vertical-align: middle;\n    }\n\n    .dataframe tbody tr th {\n        vertical-align: top;\n    }\n\n    .dataframe thead th {\n        text-align: right;\n    }\n</style>\n<table border=\"1\" class=\"dataframe\">\n  <thead>\n    <tr style=\"text-align: right;\">\n      <th></th>\n      <th>question1</th>\n      <th>question2</th>\n      <th>is_duplicated</th>\n    </tr>\n  </thead>\n  <tbody>\n    <tr>\n      <th>0</th>\n      <td>add your bank card submit your bank card number</td>\n      <td>Next step</td>\n      <td>0.119670</td>\n    </tr>\n    <tr>\n      <th>1</th>\n      <td>Next step</td>\n      <td>Next step</td>\n      <td>1.000000</td>\n    </tr>\n    <tr>\n      <th>2</th>\n      <td>Next step</td>\n      <td>Current page add bank card</td>\n      <td>0.091363</td>\n    </tr>\n    <tr>\n      <th>3</th>\n      <td>Next step</td>\n      <td>To pay</td>\n      <td>0.052867</td>\n    </tr>\n    <tr>\n      <th>4</th>\n      <td>Next step</td>\n      <td>return</td>\n      <td>0.138239</td>\n    </tr>\n    <tr>\n      <th>5</th>\n      <td>Next step</td>\n      <td>body</td>\n      <td>0.037567</td>\n    </tr>\n    <tr>\n      <th>6</th>\n      <td>Next step</td>\n      <td>0 05</td>\n      <td>0.160875</td>\n    </tr>\n    <tr>\n      <th>7</th>\n      <td>Next step</td>\n      <td>Beneficiary</td>\n      <td>0.041332</td>\n    </tr>\n    <tr>\n      <th>8</th>\n      <td>Next step</td>\n      <td>UAT ordinary direct connection test merchant</td>\n      <td>0.074186</td>\n    </tr>\n    <tr>\n      <th>9</th>\n      <td>Next step</td>\n      <td>pay immediately</td>\n      <td>0.033657</td>\n    </tr>\n    <tr>\n      <th>10</th>\n      <td>Next step</td>\n      <td>Payment security underwritten by People s Insu...</td>\n      <td>0.061845</td>\n    </tr>\n    <tr>\n      <th>11</th>\n      <td>Next step</td>\n      <td>return</td>\n      <td>0.138239</td>\n    </tr>\n    <tr>\n      <th>12</th>\n      <td>Next step</td>\n      <td>Verify mobile phone number</td>\n      <td>0.115151</td>\n    </tr>\n    <tr>\n      <th>13</th>\n      <td>Next step</td>\n      <td>SMS verification required transaction</td>\n      <td>0.070491</td>\n    </tr>\n    <tr>\n      <th>14</th>\n      <td>Next step</td>\n      <td>phone number</td>\n      <td>0.087893</td>\n    </tr>\n    <tr>\n      <th>15</th>\n      <td>Next step</td>\n      <td>148 57</td>\n      <td>0.079587</td>\n    </tr>\n    <tr>\n      <th>16</th>\n      <td>Next step</td>\n      <td>Verification code</td>\n      <td>0.014175</td>\n    </tr>\n    <tr>\n      <th>17</th>\n      <td>Next step</td>\n      <td>Fill in verification code</td>\n      <td>0.041351</td>\n    </tr>\n    <tr>\n      <th>18</th>\n      <td>Next step</td>\n      <td>Sent 38</td>\n      <td>0.192404</td>\n    </tr>\n    <tr>\n      <th>19</th>\n      <td>Next step</td>\n      <td>Verify other phone numbers</td>\n      <td>0.190239</td>\n    </tr>\n    <tr>\n      <th>20</th>\n      <td>Next step</td>\n      <td>Please select short mobile phone number</td>\n      <td>0.115635</td>\n    </tr>\n    <tr>\n      <th>21</th>\n      <td>Next step</td>\n      <td>return</td>\n      <td>0.138239</td>\n    </tr>\n    <tr>\n      <th>22</th>\n      <td>Next step</td>\n      <td>Choose bank card use mobile phone number reser...</td>\n      <td>0.036622</td>\n    </tr>\n    <tr>\n      <th>23</th>\n      <td>Next step</td>\n      <td>148 57</td>\n      <td>0.079587</td>\n    </tr>\n    <tr>\n      <th>24</th>\n      <td>Next step</td>\n      <td>Ping An Bank savings card 3825 reserved mobile...</td>\n      <td>0.070028</td>\n    </tr>\n    <tr>\n      <th>25</th>\n      <td>Next step</td>\n      <td>renew</td>\n      <td>0.072160</td>\n    </tr>\n    <tr>\n      <th>26</th>\n      <td>Next step</td>\n      <td>148 12</td>\n      <td>0.102356</td>\n    </tr>\n    <tr>\n      <th>27</th>\n      <td>Next step</td>\n      <td>Ping An Bank Credit Card 5363 reserved mobile ...</td>\n      <td>0.105646</td>\n    </tr>\n    <tr>\n      <th>28</th>\n      <td>Next step</td>\n      <td>renew</td>\n      <td>0.072160</td>\n    </tr>\n    <tr>\n      <th>29</th>\n      <td>Next step</td>\n      <td>Add mobile phone number by binding new card</td>\n      <td>0.037859</td>\n    </tr>\n    <tr>\n      <th>30</th>\n      <td>Next step</td>\n      <td>Contact customer service solve 95017</td>\n      <td>0.093503</td>\n    </tr>\n    <tr>\n      <th>31</th>\n      <td>Next step</td>\n      <td>Add bank card</td>\n      <td>0.127955</td>\n    </tr>\n    <tr>\n      <th>32</th>\n      <td>Next step</td>\n      <td>return</td>\n      <td>0.138239</td>\n    </tr>\n    <tr>\n      <th>33</th>\n      <td>Next step</td>\n      <td>Add new bank card use bank card s reserved mob...</td>\n      <td>0.042576</td>\n    </tr>\n    <tr>\n      <th>34</th>\n      <td>Next step</td>\n      <td>cardholder</td>\n      <td>0.032384</td>\n    </tr>\n    <tr>\n      <th>35</th>\n      <td>Next step</td>\n      <td>paytest</td>\n      <td>0.165580</td>\n    </tr>\n    <tr>\n      <th>36</th>\n      <td>Next step</td>\n      <td>card number</td>\n      <td>0.082401</td>\n    </tr>\n    <tr>\n      <th>37</th>\n      <td>Next step</td>\n      <td>4392 2611 1111 1111</td>\n      <td>0.123486</td>\n    </tr>\n    <tr>\n      <th>38</th>\n      <td>Next step</td>\n      <td>Scan bank card</td>\n      <td>0.073689</td>\n    </tr>\n    <tr>\n      <th>39</th>\n      <td>Next step</td>\n      <td>Next step</td>\n      <td>1.000000</td>\n    </tr>\n    <tr>\n      <th>40</th>\n      <td>Next step</td>\n      <td>service provided by Tenpay</td>\n      <td>0.040702</td>\n    </tr>\n    <tr>\n      <th>41</th>\n      <td>Next step</td>\n      <td>Put away keyboard</td>\n      <td>0.026039</td>\n    </tr>\n    <tr>\n      <th>42</th>\n      <td>Next step</td>\n      <td>1</td>\n      <td>0.047814</td>\n    </tr>\n    <tr>\n      <th>43</th>\n      <td>Next step</td>\n      <td>2</td>\n      <td>0.037152</td>\n    </tr>\n    <tr>\n      <th>44</th>\n      <td>Next step</td>\n      <td>3</td>\n      <td>0.081191</td>\n    </tr>\n    <tr>\n      <th>45</th>\n      <td>Next step</td>\n      <td>4</td>\n      <td>0.070411</td>\n    </tr>\n    <tr>\n      <th>46</th>\n      <td>Next step</td>\n      <td>5</td>\n      <td>0.068107</td>\n    </tr>\n    <tr>\n      <th>47</th>\n      <td>Next step</td>\n      <td>6</td>\n      <td>0.024976</td>\n    </tr>\n    <tr>\n      <th>48</th>\n      <td>Next step</td>\n      <td>7</td>\n      <td>0.077478</td>\n    </tr>\n    <tr>\n      <th>49</th>\n      <td>Next step</td>\n      <td>8</td>\n      <td>0.067284</td>\n    </tr>\n    <tr>\n      <th>50</th>\n      <td>Next step</td>\n      <td>9</td>\n      <td>0.080291</td>\n    </tr>\n    <tr>\n      <th>51</th>\n      <td>Next step</td>\n      <td>The letter X</td>\n      <td>0.137620</td>\n    </tr>\n    <tr>\n      <th>52</th>\n      <td>Next step</td>\n      <td>0</td>\n      <td>0.075220</td>\n    </tr>\n    <tr>\n      <th>53</th>\n      <td>Next step</td>\n      <td>delete</td>\n      <td>0.164264</td>\n    </tr>\n    <tr>\n      <th>54</th>\n      <td>Next step</td>\n      <td>delete</td>\n      <td>0.164264</td>\n    </tr>\n  </tbody>\n</table>\n</div>"
     },
     "execution_count": 89,
     "metadata": {},
     "output_type": "execute_result"
    }
   ],
   "source": [
    "i = 15\n",
    "data_set = d[i]\n",
    "result_boolean = data_set['is_duplicated'][2:] <= data_set['is_duplicated'][2:].min()\n",
    "result_boolean[0] = False\n",
    "result_boolean[1] = False\n",
    "data_set"
   ],
   "metadata": {
    "collapsed": false,
    "pycharm": {
     "name": "#%%\n"
    }
   }
  },
  {
   "cell_type": "code",
   "execution_count": 90,
   "outputs": [],
   "source": [
    "result = dict()\n",
    "result['label'] = list()\n",
    "result['query'] = list()\n",
    "result['ui_info'] = list()\n",
    "for j in range(len(d)):\n",
    "    data_set = d[j]\n",
    "    result['label'].append('yes')\n",
    "    result['query'].append(data_set['question1'][0])\n",
    "    result['ui_info'].append(data_set['question2'][0])\n",
    "    result['label'].append('no')\n",
    "    result['query'].append(data_set['question1'][0])\n",
    "    result_boolean = data_set['is_duplicated'][2:] <= data_set['is_duplicated'][2:].min()\n",
    "    result_boolean[0] = False\n",
    "    result_boolean[1] = False\n",
    "    s = data_set['question2'][result_boolean].values[0]\n",
    "    if data_set['question1'][0]=='do login':\n",
    "        print(s,j)\n",
    "    result['ui_info'].append(s)"
   ],
   "metadata": {
    "collapsed": false,
    "pycharm": {
     "name": "#%%\n"
    }
   }
  },
  {
   "cell_type": "code",
   "execution_count": 91,
   "outputs": [],
   "source": [
    "# data_set.to_csv(path_or_buf=path, sep='\\t', header=False, index=False)\n",
    "result = pd.DataFrame(result)\n",
    "result.to_csv('test.tsv', sep='\\t', header=False, index=False)\n"
   ],
   "metadata": {
    "collapsed": false,
    "pycharm": {
     "name": "#%%\n"
    }
   }
  }
 ],
 "metadata": {
  "kernelspec": {
   "display_name": "Python 3",
   "language": "python",
   "name": "python3"
  },
  "language_info": {
   "codemirror_mode": {
    "name": "ipython",
    "version": 2
   },
   "file_extension": ".py",
   "mimetype": "text/x-python",
   "name": "python",
   "nbconvert_exporter": "python",
   "pygments_lexer": "ipython2",
   "version": "2.7.6"
  }
 },
 "nbformat": 4,
 "nbformat_minor": 0
}